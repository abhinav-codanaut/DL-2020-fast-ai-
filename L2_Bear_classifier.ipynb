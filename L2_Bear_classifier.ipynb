{
  "nbformat": 4,
  "nbformat_minor": 0,
  "metadata": {
    "colab": {
      "name": "L2 Bear classifier",
      "provenance": [],
      "collapsed_sections": [],
      "authorship_tag": "ABX9TyNvWA5lqzOBWZTQIIT1sUkJ",
      "include_colab_link": true
    },
    "kernelspec": {
      "name": "python3",
      "display_name": "Python 3"
    },
    "language_info": {
      "name": "python"
    },
    "accelerator": "GPU",
    "widgets": {
      "application/vnd.jupyter.widget-state+json": {
        "8a01873343b9496b8e3080bc613f35dd": {
          "model_module": "@jupyter-widgets/controls",
          "model_name": "HBoxModel",
          "state": {
            "_view_name": "HBoxView",
            "_dom_classes": [],
            "_model_name": "HBoxModel",
            "_view_module": "@jupyter-widgets/controls",
            "_model_module_version": "1.5.0",
            "_view_count": null,
            "_view_module_version": "1.5.0",
            "box_style": "",
            "layout": "IPY_MODEL_7162373c502648cdb5fbce80293f20ce",
            "_model_module": "@jupyter-widgets/controls",
            "children": [
              "IPY_MODEL_375ea12f35214953add0bd4ab91e6b7e",
              "IPY_MODEL_6bd2c19578db4333945ee05c23ec9059",
              "IPY_MODEL_546a9794a66447528fc9052b8d6960c6",
              "IPY_MODEL_295adac6e0e7406e8a3df651d44d9a58",
              "IPY_MODEL_f630970236144d64bad01c0d366d018c",
              "IPY_MODEL_f5db9cbda3964eca82d16d2e0c17c81c",
              "IPY_MODEL_b8de48ab0ac24027b623cb4096f760f4"
            ]
          }
        },
        "7162373c502648cdb5fbce80293f20ce": {
          "model_module": "@jupyter-widgets/base",
          "model_name": "LayoutModel",
          "state": {
            "_view_name": "LayoutView",
            "grid_template_rows": null,
            "right": null,
            "justify_content": null,
            "_view_module": "@jupyter-widgets/base",
            "overflow": null,
            "_model_module_version": "1.2.0",
            "_view_count": null,
            "flex_flow": null,
            "width": null,
            "min_width": null,
            "border": null,
            "align_items": null,
            "bottom": null,
            "_model_module": "@jupyter-widgets/base",
            "top": null,
            "grid_column": null,
            "overflow_y": null,
            "overflow_x": null,
            "grid_auto_flow": null,
            "grid_area": null,
            "grid_template_columns": null,
            "flex": null,
            "_model_name": "LayoutModel",
            "justify_items": null,
            "grid_row": null,
            "max_height": null,
            "align_content": null,
            "visibility": null,
            "align_self": null,
            "height": null,
            "min_height": null,
            "padding": null,
            "grid_auto_rows": null,
            "grid_gap": null,
            "max_width": null,
            "order": null,
            "_view_module_version": "1.2.0",
            "grid_template_areas": null,
            "object_position": null,
            "object_fit": null,
            "grid_auto_columns": null,
            "margin": null,
            "display": null,
            "left": null
          }
        },
        "375ea12f35214953add0bd4ab91e6b7e": {
          "model_module": "@jupyter-widgets/controls",
          "model_name": "ButtonModel",
          "state": {
            "_view_name": "ButtonView",
            "style": "IPY_MODEL_89e61c5458f049d0b2dea6e36583e055",
            "_dom_classes": [],
            "description": "|<<",
            "_model_name": "ButtonModel",
            "button_style": "",
            "_view_module": "@jupyter-widgets/controls",
            "_model_module_version": "1.5.0",
            "tooltip": "",
            "_view_count": null,
            "disabled": true,
            "_view_module_version": "1.5.0",
            "layout": "IPY_MODEL_0156ca535e8e46e28ae1d476363008aa",
            "_model_module": "@jupyter-widgets/controls",
            "icon": ""
          }
        },
        "6bd2c19578db4333945ee05c23ec9059": {
          "model_module": "@jupyter-widgets/controls",
          "model_name": "ButtonModel",
          "state": {
            "_view_name": "ButtonView",
            "style": "IPY_MODEL_08c9f7de3c014368bd8a9365bb70a710",
            "_dom_classes": [],
            "description": "<<",
            "_model_name": "ButtonModel",
            "button_style": "",
            "_view_module": "@jupyter-widgets/controls",
            "_model_module_version": "1.5.0",
            "tooltip": "",
            "_view_count": null,
            "disabled": true,
            "_view_module_version": "1.5.0",
            "layout": "IPY_MODEL_afd18b6b1045405fb6bd4cbd2e33fe86",
            "_model_module": "@jupyter-widgets/controls",
            "icon": ""
          }
        },
        "546a9794a66447528fc9052b8d6960c6": {
          "model_module": "@jupyter-widgets/controls",
          "model_name": "LabelModel",
          "state": {
            "_view_name": "LabelView",
            "style": "IPY_MODEL_363022d870d346fe8ee76c3301181e51",
            "_dom_classes": [],
            "description": "",
            "_model_name": "LabelModel",
            "placeholder": "​",
            "_view_module": "@jupyter-widgets/controls",
            "_model_module_version": "1.5.0",
            "value": "Page 1 of 13",
            "_view_count": null,
            "_view_module_version": "1.5.0",
            "description_tooltip": null,
            "_model_module": "@jupyter-widgets/controls",
            "layout": "IPY_MODEL_07d7627e0bd94329956d8d1fce35e064"
          }
        },
        "295adac6e0e7406e8a3df651d44d9a58": {
          "model_module": "@jupyter-widgets/controls",
          "model_name": "ButtonModel",
          "state": {
            "_view_name": "ButtonView",
            "style": "IPY_MODEL_7de01dd3e1ee48e7872e36d2f66afa86",
            "_dom_classes": [],
            "description": ">>",
            "_model_name": "ButtonModel",
            "button_style": "",
            "_view_module": "@jupyter-widgets/controls",
            "_model_module_version": "1.5.0",
            "tooltip": "",
            "_view_count": null,
            "disabled": false,
            "_view_module_version": "1.5.0",
            "layout": "IPY_MODEL_42ca9cc367db41998c9aef6932d3be65",
            "_model_module": "@jupyter-widgets/controls",
            "icon": ""
          }
        },
        "f630970236144d64bad01c0d366d018c": {
          "model_module": "@jupyter-widgets/controls",
          "model_name": "ButtonModel",
          "state": {
            "_view_name": "ButtonView",
            "style": "IPY_MODEL_1ac8cc49730f43639a813721a3556e46",
            "_dom_classes": [],
            "description": ">>|",
            "_model_name": "ButtonModel",
            "button_style": "",
            "_view_module": "@jupyter-widgets/controls",
            "_model_module_version": "1.5.0",
            "tooltip": "",
            "_view_count": null,
            "disabled": false,
            "_view_module_version": "1.5.0",
            "layout": "IPY_MODEL_416d53d25e2e446db179224ccaa9e02e",
            "_model_module": "@jupyter-widgets/controls",
            "icon": ""
          }
        },
        "f5db9cbda3964eca82d16d2e0c17c81c": {
          "model_module": "@jupyter-widgets/controls",
          "model_name": "DropdownModel",
          "state": {
            "_options_labels": [
              "black",
              "grizzly",
              "teddy"
            ],
            "_view_name": "DropdownView",
            "style": "IPY_MODEL_bd01969870c84b8fbfe5f27cbb9a2c8c",
            "_dom_classes": [],
            "description": "Folder: ",
            "_model_name": "DropdownModel",
            "index": 0,
            "_view_module": "@jupyter-widgets/controls",
            "_model_module_version": "1.5.0",
            "_view_count": null,
            "disabled": false,
            "_view_module_version": "1.5.0",
            "description_tooltip": null,
            "_model_module": "@jupyter-widgets/controls",
            "layout": "IPY_MODEL_643bc52e29b9413985b6f28c33928feb"
          }
        },
        "b8de48ab0ac24027b623cb4096f760f4": {
          "model_module": "@jupyter-widgets/controls",
          "model_name": "ButtonModel",
          "state": {
            "_view_name": "ButtonView",
            "style": "IPY_MODEL_d3cfc237ae294af78b33986c785aada5",
            "_dom_classes": [],
            "description": "↻",
            "_model_name": "ButtonModel",
            "button_style": "",
            "_view_module": "@jupyter-widgets/controls",
            "_model_module_version": "1.5.0",
            "tooltip": "",
            "_view_count": null,
            "disabled": false,
            "_view_module_version": "1.5.0",
            "layout": "IPY_MODEL_58bc51ed95dd4e60adaa2e9db986db0f",
            "_model_module": "@jupyter-widgets/controls",
            "icon": ""
          }
        },
        "89e61c5458f049d0b2dea6e36583e055": {
          "model_module": "@jupyter-widgets/controls",
          "model_name": "ButtonStyleModel",
          "state": {
            "_view_name": "StyleView",
            "_model_name": "ButtonStyleModel",
            "_view_module": "@jupyter-widgets/base",
            "_model_module_version": "1.5.0",
            "_view_count": null,
            "button_color": null,
            "font_weight": "",
            "_view_module_version": "1.2.0",
            "_model_module": "@jupyter-widgets/controls"
          }
        },
        "0156ca535e8e46e28ae1d476363008aa": {
          "model_module": "@jupyter-widgets/base",
          "model_name": "LayoutModel",
          "state": {
            "_view_name": "LayoutView",
            "grid_template_rows": null,
            "right": null,
            "justify_content": null,
            "_view_module": "@jupyter-widgets/base",
            "overflow": null,
            "_model_module_version": "1.2.0",
            "_view_count": null,
            "flex_flow": null,
            "width": "60px",
            "min_width": null,
            "border": null,
            "align_items": null,
            "bottom": null,
            "_model_module": "@jupyter-widgets/base",
            "top": null,
            "grid_column": null,
            "overflow_y": null,
            "overflow_x": null,
            "grid_auto_flow": null,
            "grid_area": null,
            "grid_template_columns": null,
            "flex": null,
            "_model_name": "LayoutModel",
            "justify_items": null,
            "grid_row": null,
            "max_height": null,
            "align_content": null,
            "visibility": null,
            "align_self": null,
            "height": null,
            "min_height": null,
            "padding": null,
            "grid_auto_rows": null,
            "grid_gap": null,
            "max_width": null,
            "order": null,
            "_view_module_version": "1.2.0",
            "grid_template_areas": null,
            "object_position": null,
            "object_fit": null,
            "grid_auto_columns": null,
            "margin": null,
            "display": null,
            "left": null
          }
        },
        "08c9f7de3c014368bd8a9365bb70a710": {
          "model_module": "@jupyter-widgets/controls",
          "model_name": "ButtonStyleModel",
          "state": {
            "_view_name": "StyleView",
            "_model_name": "ButtonStyleModel",
            "_view_module": "@jupyter-widgets/base",
            "_model_module_version": "1.5.0",
            "_view_count": null,
            "button_color": null,
            "font_weight": "",
            "_view_module_version": "1.2.0",
            "_model_module": "@jupyter-widgets/controls"
          }
        },
        "afd18b6b1045405fb6bd4cbd2e33fe86": {
          "model_module": "@jupyter-widgets/base",
          "model_name": "LayoutModel",
          "state": {
            "_view_name": "LayoutView",
            "grid_template_rows": null,
            "right": null,
            "justify_content": null,
            "_view_module": "@jupyter-widgets/base",
            "overflow": null,
            "_model_module_version": "1.2.0",
            "_view_count": null,
            "flex_flow": null,
            "width": "60px",
            "min_width": null,
            "border": null,
            "align_items": null,
            "bottom": null,
            "_model_module": "@jupyter-widgets/base",
            "top": null,
            "grid_column": null,
            "overflow_y": null,
            "overflow_x": null,
            "grid_auto_flow": null,
            "grid_area": null,
            "grid_template_columns": null,
            "flex": null,
            "_model_name": "LayoutModel",
            "justify_items": null,
            "grid_row": null,
            "max_height": null,
            "align_content": null,
            "visibility": null,
            "align_self": null,
            "height": null,
            "min_height": null,
            "padding": null,
            "grid_auto_rows": null,
            "grid_gap": null,
            "max_width": null,
            "order": null,
            "_view_module_version": "1.2.0",
            "grid_template_areas": null,
            "object_position": null,
            "object_fit": null,
            "grid_auto_columns": null,
            "margin": null,
            "display": null,
            "left": null
          }
        },
        "363022d870d346fe8ee76c3301181e51": {
          "model_module": "@jupyter-widgets/controls",
          "model_name": "DescriptionStyleModel",
          "state": {
            "_view_name": "StyleView",
            "_model_name": "DescriptionStyleModel",
            "description_width": "",
            "_view_module": "@jupyter-widgets/base",
            "_model_module_version": "1.5.0",
            "_view_count": null,
            "_view_module_version": "1.2.0",
            "_model_module": "@jupyter-widgets/controls"
          }
        },
        "07d7627e0bd94329956d8d1fce35e064": {
          "model_module": "@jupyter-widgets/base",
          "model_name": "LayoutModel",
          "state": {
            "_view_name": "LayoutView",
            "grid_template_rows": null,
            "right": null,
            "justify_content": "center",
            "_view_module": "@jupyter-widgets/base",
            "overflow": null,
            "_model_module_version": "1.2.0",
            "_view_count": null,
            "flex_flow": null,
            "width": "100px",
            "min_width": null,
            "border": null,
            "align_items": null,
            "bottom": null,
            "_model_module": "@jupyter-widgets/base",
            "top": null,
            "grid_column": null,
            "overflow_y": null,
            "overflow_x": null,
            "grid_auto_flow": null,
            "grid_area": null,
            "grid_template_columns": null,
            "flex": null,
            "_model_name": "LayoutModel",
            "justify_items": null,
            "grid_row": null,
            "max_height": null,
            "align_content": null,
            "visibility": null,
            "align_self": null,
            "height": null,
            "min_height": null,
            "padding": null,
            "grid_auto_rows": null,
            "grid_gap": null,
            "max_width": null,
            "order": null,
            "_view_module_version": "1.2.0",
            "grid_template_areas": null,
            "object_position": null,
            "object_fit": null,
            "grid_auto_columns": null,
            "margin": null,
            "display": "flex",
            "left": null
          }
        },
        "7de01dd3e1ee48e7872e36d2f66afa86": {
          "model_module": "@jupyter-widgets/controls",
          "model_name": "ButtonStyleModel",
          "state": {
            "_view_name": "StyleView",
            "_model_name": "ButtonStyleModel",
            "_view_module": "@jupyter-widgets/base",
            "_model_module_version": "1.5.0",
            "_view_count": null,
            "button_color": null,
            "font_weight": "",
            "_view_module_version": "1.2.0",
            "_model_module": "@jupyter-widgets/controls"
          }
        },
        "42ca9cc367db41998c9aef6932d3be65": {
          "model_module": "@jupyter-widgets/base",
          "model_name": "LayoutModel",
          "state": {
            "_view_name": "LayoutView",
            "grid_template_rows": null,
            "right": null,
            "justify_content": null,
            "_view_module": "@jupyter-widgets/base",
            "overflow": null,
            "_model_module_version": "1.2.0",
            "_view_count": null,
            "flex_flow": null,
            "width": "60px",
            "min_width": null,
            "border": null,
            "align_items": null,
            "bottom": null,
            "_model_module": "@jupyter-widgets/base",
            "top": null,
            "grid_column": null,
            "overflow_y": null,
            "overflow_x": null,
            "grid_auto_flow": null,
            "grid_area": null,
            "grid_template_columns": null,
            "flex": null,
            "_model_name": "LayoutModel",
            "justify_items": null,
            "grid_row": null,
            "max_height": null,
            "align_content": null,
            "visibility": null,
            "align_self": null,
            "height": null,
            "min_height": null,
            "padding": null,
            "grid_auto_rows": null,
            "grid_gap": null,
            "max_width": null,
            "order": null,
            "_view_module_version": "1.2.0",
            "grid_template_areas": null,
            "object_position": null,
            "object_fit": null,
            "grid_auto_columns": null,
            "margin": null,
            "display": null,
            "left": null
          }
        },
        "1ac8cc49730f43639a813721a3556e46": {
          "model_module": "@jupyter-widgets/controls",
          "model_name": "ButtonStyleModel",
          "state": {
            "_view_name": "StyleView",
            "_model_name": "ButtonStyleModel",
            "_view_module": "@jupyter-widgets/base",
            "_model_module_version": "1.5.0",
            "_view_count": null,
            "button_color": null,
            "font_weight": "",
            "_view_module_version": "1.2.0",
            "_model_module": "@jupyter-widgets/controls"
          }
        },
        "416d53d25e2e446db179224ccaa9e02e": {
          "model_module": "@jupyter-widgets/base",
          "model_name": "LayoutModel",
          "state": {
            "_view_name": "LayoutView",
            "grid_template_rows": null,
            "right": null,
            "justify_content": null,
            "_view_module": "@jupyter-widgets/base",
            "overflow": null,
            "_model_module_version": "1.2.0",
            "_view_count": null,
            "flex_flow": null,
            "width": "60px",
            "min_width": null,
            "border": null,
            "align_items": null,
            "bottom": null,
            "_model_module": "@jupyter-widgets/base",
            "top": null,
            "grid_column": null,
            "overflow_y": null,
            "overflow_x": null,
            "grid_auto_flow": null,
            "grid_area": null,
            "grid_template_columns": null,
            "flex": null,
            "_model_name": "LayoutModel",
            "justify_items": null,
            "grid_row": null,
            "max_height": null,
            "align_content": null,
            "visibility": null,
            "align_self": null,
            "height": null,
            "min_height": null,
            "padding": null,
            "grid_auto_rows": null,
            "grid_gap": null,
            "max_width": null,
            "order": null,
            "_view_module_version": "1.2.0",
            "grid_template_areas": null,
            "object_position": null,
            "object_fit": null,
            "grid_auto_columns": null,
            "margin": null,
            "display": null,
            "left": null
          }
        },
        "bd01969870c84b8fbfe5f27cbb9a2c8c": {
          "model_module": "@jupyter-widgets/controls",
          "model_name": "DescriptionStyleModel",
          "state": {
            "_view_name": "StyleView",
            "_model_name": "DescriptionStyleModel",
            "description_width": "",
            "_view_module": "@jupyter-widgets/base",
            "_model_module_version": "1.5.0",
            "_view_count": null,
            "_view_module_version": "1.2.0",
            "_model_module": "@jupyter-widgets/controls"
          }
        },
        "643bc52e29b9413985b6f28c33928feb": {
          "model_module": "@jupyter-widgets/base",
          "model_name": "LayoutModel",
          "state": {
            "_view_name": "LayoutView",
            "grid_template_rows": null,
            "right": null,
            "justify_content": null,
            "_view_module": "@jupyter-widgets/base",
            "overflow": null,
            "_model_module_version": "1.2.0",
            "_view_count": null,
            "flex_flow": null,
            "width": null,
            "min_width": null,
            "border": null,
            "align_items": null,
            "bottom": null,
            "_model_module": "@jupyter-widgets/base",
            "top": null,
            "grid_column": null,
            "overflow_y": null,
            "overflow_x": null,
            "grid_auto_flow": null,
            "grid_area": null,
            "grid_template_columns": null,
            "flex": null,
            "_model_name": "LayoutModel",
            "justify_items": null,
            "grid_row": null,
            "max_height": null,
            "align_content": null,
            "visibility": null,
            "align_self": null,
            "height": null,
            "min_height": null,
            "padding": null,
            "grid_auto_rows": null,
            "grid_gap": null,
            "max_width": null,
            "order": null,
            "_view_module_version": "1.2.0",
            "grid_template_areas": null,
            "object_position": null,
            "object_fit": null,
            "grid_auto_columns": null,
            "margin": null,
            "display": null,
            "left": null
          }
        },
        "d3cfc237ae294af78b33986c785aada5": {
          "model_module": "@jupyter-widgets/controls",
          "model_name": "ButtonStyleModel",
          "state": {
            "_view_name": "StyleView",
            "_model_name": "ButtonStyleModel",
            "_view_module": "@jupyter-widgets/base",
            "_model_module_version": "1.5.0",
            "_view_count": null,
            "button_color": null,
            "font_weight": "",
            "_view_module_version": "1.2.0",
            "_model_module": "@jupyter-widgets/controls"
          }
        },
        "58bc51ed95dd4e60adaa2e9db986db0f": {
          "model_module": "@jupyter-widgets/base",
          "model_name": "LayoutModel",
          "state": {
            "_view_name": "LayoutView",
            "grid_template_rows": null,
            "right": null,
            "justify_content": null,
            "_view_module": "@jupyter-widgets/base",
            "overflow": null,
            "_model_module_version": "1.2.0",
            "_view_count": null,
            "flex_flow": null,
            "width": "40px",
            "min_width": null,
            "border": null,
            "align_items": null,
            "bottom": null,
            "_model_module": "@jupyter-widgets/base",
            "top": null,
            "grid_column": null,
            "overflow_y": null,
            "overflow_x": null,
            "grid_auto_flow": null,
            "grid_area": null,
            "grid_template_columns": null,
            "flex": null,
            "_model_name": "LayoutModel",
            "justify_items": null,
            "grid_row": null,
            "max_height": null,
            "align_content": null,
            "visibility": null,
            "align_self": null,
            "height": null,
            "min_height": null,
            "padding": null,
            "grid_auto_rows": null,
            "grid_gap": null,
            "max_width": null,
            "order": null,
            "_view_module_version": "1.2.0",
            "grid_template_areas": null,
            "object_position": null,
            "object_fit": null,
            "grid_auto_columns": null,
            "margin": "0px 0px 0px 10px",
            "display": null,
            "left": null
          }
        },
        "7fb56fe228cb4980bb8b0374c232f30f": {
          "model_module": "@jupyter-widgets/controls",
          "model_name": "HTMLModel",
          "state": {
            "_view_name": "HTMLView",
            "style": "IPY_MODEL_ef035f200604410b8c42fc494b427a69",
            "_dom_classes": [],
            "description": "",
            "_model_name": "HTMLModel",
            "placeholder": "​",
            "_view_module": "@jupyter-widgets/controls",
            "_model_module_version": "1.5.0",
            "value": "<h2>No images left to display in this folder.</h2>",
            "_view_count": null,
            "_view_module_version": "1.5.0",
            "description_tooltip": null,
            "_model_module": "@jupyter-widgets/controls",
            "layout": "IPY_MODEL_324153033acb4999922297db96447197"
          }
        },
        "ef035f200604410b8c42fc494b427a69": {
          "model_module": "@jupyter-widgets/controls",
          "model_name": "DescriptionStyleModel",
          "state": {
            "_view_name": "StyleView",
            "_model_name": "DescriptionStyleModel",
            "description_width": "",
            "_view_module": "@jupyter-widgets/base",
            "_model_module_version": "1.5.0",
            "_view_count": null,
            "_view_module_version": "1.2.0",
            "_model_module": "@jupyter-widgets/controls"
          }
        },
        "324153033acb4999922297db96447197": {
          "model_module": "@jupyter-widgets/base",
          "model_name": "LayoutModel",
          "state": {
            "_view_name": "LayoutView",
            "grid_template_rows": null,
            "right": null,
            "justify_content": null,
            "_view_module": "@jupyter-widgets/base",
            "overflow": null,
            "_model_module_version": "1.2.0",
            "_view_count": null,
            "flex_flow": null,
            "width": null,
            "min_width": null,
            "border": null,
            "align_items": null,
            "bottom": null,
            "_model_module": "@jupyter-widgets/base",
            "top": null,
            "grid_column": null,
            "overflow_y": null,
            "overflow_x": null,
            "grid_auto_flow": null,
            "grid_area": null,
            "grid_template_columns": null,
            "flex": null,
            "_model_name": "LayoutModel",
            "justify_items": null,
            "grid_row": null,
            "max_height": null,
            "align_content": null,
            "visibility": "hidden",
            "align_self": null,
            "height": null,
            "min_height": null,
            "padding": null,
            "grid_auto_rows": null,
            "grid_gap": null,
            "max_width": null,
            "order": null,
            "_view_module_version": "1.2.0",
            "grid_template_areas": null,
            "object_position": null,
            "object_fit": null,
            "grid_auto_columns": null,
            "margin": null,
            "display": null,
            "left": null
          }
        },
        "7fa1f2d322f141129a0bdf6b56d4908e": {
          "model_module": "@jupyter-widgets/controls",
          "model_name": "GridBoxModel",
          "state": {
            "_view_name": "GridBoxView",
            "_dom_classes": [],
            "_model_name": "GridBoxModel",
            "_view_module": "@jupyter-widgets/controls",
            "_model_module_version": "1.5.0",
            "_view_count": null,
            "_view_module_version": "1.5.0",
            "box_style": "",
            "layout": "IPY_MODEL_8949f6deba9943019e9b4f9cb2b1bfdc",
            "_model_module": "@jupyter-widgets/controls",
            "children": [
              "IPY_MODEL_0cbbd93df8bc47f7ad130b8f01bc3a68",
              "IPY_MODEL_888d95cb6e834f0592dbbc40a3fc3c14",
              "IPY_MODEL_35df1914aceb4584a35679f16dea8ffe",
              "IPY_MODEL_e5522c8191a84edc9584e9133cae9c0e",
              "IPY_MODEL_454243ddacd94714aefb8997b0320461",
              "IPY_MODEL_bbeae7ad571f4d3db524b1fee8a606b6",
              "IPY_MODEL_9c69086aac1849659c8c997f5cf29e55",
              "IPY_MODEL_58acec0d7b154963bcd0f1b64ec6ca21"
            ]
          }
        },
        "8949f6deba9943019e9b4f9cb2b1bfdc": {
          "model_module": "@jupyter-widgets/base",
          "model_name": "LayoutModel",
          "state": {
            "_view_name": "LayoutView",
            "grid_template_rows": null,
            "right": null,
            "justify_content": null,
            "_view_module": "@jupyter-widgets/base",
            "overflow": null,
            "_model_module_version": "1.2.0",
            "_view_count": null,
            "flex_flow": null,
            "width": null,
            "min_width": null,
            "border": null,
            "align_items": null,
            "bottom": null,
            "_model_module": "@jupyter-widgets/base",
            "top": null,
            "grid_column": null,
            "overflow_y": null,
            "overflow_x": null,
            "grid_auto_flow": null,
            "grid_area": null,
            "grid_template_columns": "repeat(4, 25%)",
            "flex": null,
            "_model_name": "LayoutModel",
            "justify_items": null,
            "grid_row": null,
            "max_height": null,
            "align_content": null,
            "visibility": "visible",
            "align_self": null,
            "height": null,
            "min_height": null,
            "padding": null,
            "grid_auto_rows": null,
            "grid_gap": null,
            "max_width": null,
            "order": null,
            "_view_module_version": "1.2.0",
            "grid_template_areas": null,
            "object_position": null,
            "object_fit": null,
            "grid_auto_columns": null,
            "margin": "15px",
            "display": null,
            "left": null
          }
        },
        "0cbbd93df8bc47f7ad130b8f01bc3a68": {
          "model_module": "@jupyter-widgets/controls",
          "model_name": "VBoxModel",
          "state": {
            "_view_name": "VBoxView",
            "_dom_classes": [],
            "_model_name": "VBoxModel",
            "_view_module": "@jupyter-widgets/controls",
            "_model_module_version": "1.5.0",
            "_view_count": null,
            "_view_module_version": "1.5.0",
            "box_style": "",
            "layout": "IPY_MODEL_27aededb535c4c7ca22a7d4002c77d9c",
            "_model_module": "@jupyter-widgets/controls",
            "children": [
              "IPY_MODEL_0b41a46bb8ec4a4097364a3bef85a588",
              "IPY_MODEL_fea26bff5e9340548c3603a982d13e6c"
            ]
          }
        },
        "888d95cb6e834f0592dbbc40a3fc3c14": {
          "model_module": "@jupyter-widgets/controls",
          "model_name": "VBoxModel",
          "state": {
            "_view_name": "VBoxView",
            "_dom_classes": [],
            "_model_name": "VBoxModel",
            "_view_module": "@jupyter-widgets/controls",
            "_model_module_version": "1.5.0",
            "_view_count": null,
            "_view_module_version": "1.5.0",
            "box_style": "",
            "layout": "IPY_MODEL_c97d695fb3ea458281033373601249aa",
            "_model_module": "@jupyter-widgets/controls",
            "children": [
              "IPY_MODEL_ed7a893cc28440789b19284a73079913",
              "IPY_MODEL_a168b061df2e4fad9df4858c4943e946"
            ]
          }
        },
        "35df1914aceb4584a35679f16dea8ffe": {
          "model_module": "@jupyter-widgets/controls",
          "model_name": "VBoxModel",
          "state": {
            "_view_name": "VBoxView",
            "_dom_classes": [],
            "_model_name": "VBoxModel",
            "_view_module": "@jupyter-widgets/controls",
            "_model_module_version": "1.5.0",
            "_view_count": null,
            "_view_module_version": "1.5.0",
            "box_style": "",
            "layout": "IPY_MODEL_5c83485b5ecd47b3bd54313cd34938c6",
            "_model_module": "@jupyter-widgets/controls",
            "children": [
              "IPY_MODEL_1436f27f4f7543ecbb36e2508b3b54ea",
              "IPY_MODEL_7c9b7cef8cd940728849d5c57461ab22"
            ]
          }
        },
        "e5522c8191a84edc9584e9133cae9c0e": {
          "model_module": "@jupyter-widgets/controls",
          "model_name": "VBoxModel",
          "state": {
            "_view_name": "VBoxView",
            "_dom_classes": [],
            "_model_name": "VBoxModel",
            "_view_module": "@jupyter-widgets/controls",
            "_model_module_version": "1.5.0",
            "_view_count": null,
            "_view_module_version": "1.5.0",
            "box_style": "",
            "layout": "IPY_MODEL_27ad6197277a4aba9c99529819919171",
            "_model_module": "@jupyter-widgets/controls",
            "children": [
              "IPY_MODEL_ecfaee2918094c9a9ce42afa9dc3154a",
              "IPY_MODEL_d78bf0c743014a3589398772103ae7b8"
            ]
          }
        },
        "454243ddacd94714aefb8997b0320461": {
          "model_module": "@jupyter-widgets/controls",
          "model_name": "VBoxModel",
          "state": {
            "_view_name": "VBoxView",
            "_dom_classes": [],
            "_model_name": "VBoxModel",
            "_view_module": "@jupyter-widgets/controls",
            "_model_module_version": "1.5.0",
            "_view_count": null,
            "_view_module_version": "1.5.0",
            "box_style": "",
            "layout": "IPY_MODEL_1e3fd9b610b34c3598472754e2d02e0d",
            "_model_module": "@jupyter-widgets/controls",
            "children": [
              "IPY_MODEL_d6ab420c8ba04bf6893cd5e176eebe3b",
              "IPY_MODEL_479a1d9bfe1244618d4eb85d06f9f66b"
            ]
          }
        },
        "bbeae7ad571f4d3db524b1fee8a606b6": {
          "model_module": "@jupyter-widgets/controls",
          "model_name": "VBoxModel",
          "state": {
            "_view_name": "VBoxView",
            "_dom_classes": [],
            "_model_name": "VBoxModel",
            "_view_module": "@jupyter-widgets/controls",
            "_model_module_version": "1.5.0",
            "_view_count": null,
            "_view_module_version": "1.5.0",
            "box_style": "",
            "layout": "IPY_MODEL_e419a342a28c4c39a59d708eefac4e80",
            "_model_module": "@jupyter-widgets/controls",
            "children": [
              "IPY_MODEL_1545f22fbbf94734919929f18f8dd658",
              "IPY_MODEL_5111c21c62554c329e9b9ee99f88b7a8"
            ]
          }
        },
        "9c69086aac1849659c8c997f5cf29e55": {
          "model_module": "@jupyter-widgets/controls",
          "model_name": "VBoxModel",
          "state": {
            "_view_name": "VBoxView",
            "_dom_classes": [],
            "_model_name": "VBoxModel",
            "_view_module": "@jupyter-widgets/controls",
            "_model_module_version": "1.5.0",
            "_view_count": null,
            "_view_module_version": "1.5.0",
            "box_style": "",
            "layout": "IPY_MODEL_900fcdbb41d74a0ab2e9e5268a513e5d",
            "_model_module": "@jupyter-widgets/controls",
            "children": [
              "IPY_MODEL_941c3ddeb1d24087a9953149306355bc",
              "IPY_MODEL_f388797a5fb64b7298b847219204a3af"
            ]
          }
        },
        "58acec0d7b154963bcd0f1b64ec6ca21": {
          "model_module": "@jupyter-widgets/controls",
          "model_name": "VBoxModel",
          "state": {
            "_view_name": "VBoxView",
            "_dom_classes": [],
            "_model_name": "VBoxModel",
            "_view_module": "@jupyter-widgets/controls",
            "_model_module_version": "1.5.0",
            "_view_count": null,
            "_view_module_version": "1.5.0",
            "box_style": "",
            "layout": "IPY_MODEL_5ac105dd23e941aeb81f458625a5fd41",
            "_model_module": "@jupyter-widgets/controls",
            "children": [
              "IPY_MODEL_a545ea584c6f4f14b5e89378378da522",
              "IPY_MODEL_38fae49595df4c558edca234364c2618"
            ]
          }
        },
        "27aededb535c4c7ca22a7d4002c77d9c": {
          "model_module": "@jupyter-widgets/base",
          "model_name": "LayoutModel",
          "state": {
            "_view_name": "LayoutView",
            "grid_template_rows": null,
            "right": null,
            "justify_content": null,
            "_view_module": "@jupyter-widgets/base",
            "overflow": null,
            "_model_module_version": "1.2.0",
            "_view_count": null,
            "flex_flow": null,
            "width": null,
            "min_width": null,
            "border": null,
            "align_items": null,
            "bottom": null,
            "_model_module": "@jupyter-widgets/base",
            "top": null,
            "grid_column": null,
            "overflow_y": null,
            "overflow_x": null,
            "grid_auto_flow": null,
            "grid_area": null,
            "grid_template_columns": null,
            "flex": null,
            "_model_name": "LayoutModel",
            "justify_items": null,
            "grid_row": null,
            "max_height": null,
            "align_content": null,
            "visibility": "visible",
            "align_self": null,
            "height": null,
            "min_height": null,
            "padding": null,
            "grid_auto_rows": null,
            "grid_gap": null,
            "max_width": null,
            "order": null,
            "_view_module_version": "1.2.0",
            "grid_template_areas": null,
            "object_position": null,
            "object_fit": null,
            "grid_auto_columns": null,
            "margin": "5px",
            "display": null,
            "left": null
          }
        },
        "0b41a46bb8ec4a4097364a3bef85a588": {
          "model_module": "@jupyter-widgets/controls",
          "model_name": "ImageModel",
          "state": {
            "_view_name": "ImageView",
            "_dom_classes": [],
            "_model_name": "ImageModel",
            "format": "png",
            "_view_module": "@jupyter-widgets/controls",
            "_model_module_version": "1.5.0",
            "_view_count": null,
            "width": "",
            "_view_module_version": "1.5.0",
            "layout": "IPY_MODEL_5e2e2427805c41e894e4a82578a68228",
            "height": "",
            "_model_module": "@jupyter-widgets/controls"
          }
        },
        "fea26bff5e9340548c3603a982d13e6c": {
          "model_module": "@jupyter-widgets/controls",
          "model_name": "ButtonModel",
          "state": {
            "_view_name": "ButtonView",
            "style": "IPY_MODEL_f10baf0cd2c54735a66881cf5e5382e2",
            "_dom_classes": [],
            "description": "Delete",
            "_model_name": "ButtonModel",
            "button_style": "",
            "_view_module": "@jupyter-widgets/controls",
            "_model_module_version": "1.5.0",
            "tooltip": "",
            "_view_count": null,
            "disabled": false,
            "_view_module_version": "1.5.0",
            "layout": "IPY_MODEL_9d2cb7ad175b43a7af69ee43eafa2e52",
            "_model_module": "@jupyter-widgets/controls",
            "icon": ""
          }
        },
        "c97d695fb3ea458281033373601249aa": {
          "model_module": "@jupyter-widgets/base",
          "model_name": "LayoutModel",
          "state": {
            "_view_name": "LayoutView",
            "grid_template_rows": null,
            "right": null,
            "justify_content": null,
            "_view_module": "@jupyter-widgets/base",
            "overflow": null,
            "_model_module_version": "1.2.0",
            "_view_count": null,
            "flex_flow": null,
            "width": null,
            "min_width": null,
            "border": null,
            "align_items": null,
            "bottom": null,
            "_model_module": "@jupyter-widgets/base",
            "top": null,
            "grid_column": null,
            "overflow_y": null,
            "overflow_x": null,
            "grid_auto_flow": null,
            "grid_area": null,
            "grid_template_columns": null,
            "flex": null,
            "_model_name": "LayoutModel",
            "justify_items": null,
            "grid_row": null,
            "max_height": null,
            "align_content": null,
            "visibility": "visible",
            "align_self": null,
            "height": null,
            "min_height": null,
            "padding": null,
            "grid_auto_rows": null,
            "grid_gap": null,
            "max_width": null,
            "order": null,
            "_view_module_version": "1.2.0",
            "grid_template_areas": null,
            "object_position": null,
            "object_fit": null,
            "grid_auto_columns": null,
            "margin": "5px",
            "display": null,
            "left": null
          }
        },
        "ed7a893cc28440789b19284a73079913": {
          "model_module": "@jupyter-widgets/controls",
          "model_name": "ImageModel",
          "state": {
            "_view_name": "ImageView",
            "_dom_classes": [],
            "_model_name": "ImageModel",
            "format": "png",
            "_view_module": "@jupyter-widgets/controls",
            "_model_module_version": "1.5.0",
            "_view_count": null,
            "width": "",
            "_view_module_version": "1.5.0",
            "layout": "IPY_MODEL_a2f666b04f5e48528a81a32527b68588",
            "height": "",
            "_model_module": "@jupyter-widgets/controls"
          }
        },
        "a168b061df2e4fad9df4858c4943e946": {
          "model_module": "@jupyter-widgets/controls",
          "model_name": "ButtonModel",
          "state": {
            "_view_name": "ButtonView",
            "style": "IPY_MODEL_d15b1d3908604f51a4f1765d382618eb",
            "_dom_classes": [],
            "description": "Delete",
            "_model_name": "ButtonModel",
            "button_style": "",
            "_view_module": "@jupyter-widgets/controls",
            "_model_module_version": "1.5.0",
            "tooltip": "",
            "_view_count": null,
            "disabled": false,
            "_view_module_version": "1.5.0",
            "layout": "IPY_MODEL_5fa89a2b987e4f6f91b8d6c3ca4a4c75",
            "_model_module": "@jupyter-widgets/controls",
            "icon": ""
          }
        },
        "5c83485b5ecd47b3bd54313cd34938c6": {
          "model_module": "@jupyter-widgets/base",
          "model_name": "LayoutModel",
          "state": {
            "_view_name": "LayoutView",
            "grid_template_rows": null,
            "right": null,
            "justify_content": null,
            "_view_module": "@jupyter-widgets/base",
            "overflow": null,
            "_model_module_version": "1.2.0",
            "_view_count": null,
            "flex_flow": null,
            "width": null,
            "min_width": null,
            "border": null,
            "align_items": null,
            "bottom": null,
            "_model_module": "@jupyter-widgets/base",
            "top": null,
            "grid_column": null,
            "overflow_y": null,
            "overflow_x": null,
            "grid_auto_flow": null,
            "grid_area": null,
            "grid_template_columns": null,
            "flex": null,
            "_model_name": "LayoutModel",
            "justify_items": null,
            "grid_row": null,
            "max_height": null,
            "align_content": null,
            "visibility": "visible",
            "align_self": null,
            "height": null,
            "min_height": null,
            "padding": null,
            "grid_auto_rows": null,
            "grid_gap": null,
            "max_width": null,
            "order": null,
            "_view_module_version": "1.2.0",
            "grid_template_areas": null,
            "object_position": null,
            "object_fit": null,
            "grid_auto_columns": null,
            "margin": "5px",
            "display": null,
            "left": null
          }
        },
        "1436f27f4f7543ecbb36e2508b3b54ea": {
          "model_module": "@jupyter-widgets/controls",
          "model_name": "ImageModel",
          "state": {
            "_view_name": "ImageView",
            "_dom_classes": [],
            "_model_name": "ImageModel",
            "format": "png",
            "_view_module": "@jupyter-widgets/controls",
            "_model_module_version": "1.5.0",
            "_view_count": null,
            "width": "",
            "_view_module_version": "1.5.0",
            "layout": "IPY_MODEL_c96e45a85d554928a46a4568a1d929e7",
            "height": "",
            "_model_module": "@jupyter-widgets/controls"
          }
        },
        "7c9b7cef8cd940728849d5c57461ab22": {
          "model_module": "@jupyter-widgets/controls",
          "model_name": "ButtonModel",
          "state": {
            "_view_name": "ButtonView",
            "style": "IPY_MODEL_d2db648ce8d94cdb88d72b32633a79b2",
            "_dom_classes": [],
            "description": "Delete",
            "_model_name": "ButtonModel",
            "button_style": "",
            "_view_module": "@jupyter-widgets/controls",
            "_model_module_version": "1.5.0",
            "tooltip": "",
            "_view_count": null,
            "disabled": false,
            "_view_module_version": "1.5.0",
            "layout": "IPY_MODEL_a95ebdfb1aab4147b9346e5d19333bf0",
            "_model_module": "@jupyter-widgets/controls",
            "icon": ""
          }
        },
        "27ad6197277a4aba9c99529819919171": {
          "model_module": "@jupyter-widgets/base",
          "model_name": "LayoutModel",
          "state": {
            "_view_name": "LayoutView",
            "grid_template_rows": null,
            "right": null,
            "justify_content": null,
            "_view_module": "@jupyter-widgets/base",
            "overflow": null,
            "_model_module_version": "1.2.0",
            "_view_count": null,
            "flex_flow": null,
            "width": null,
            "min_width": null,
            "border": null,
            "align_items": null,
            "bottom": null,
            "_model_module": "@jupyter-widgets/base",
            "top": null,
            "grid_column": null,
            "overflow_y": null,
            "overflow_x": null,
            "grid_auto_flow": null,
            "grid_area": null,
            "grid_template_columns": null,
            "flex": null,
            "_model_name": "LayoutModel",
            "justify_items": null,
            "grid_row": null,
            "max_height": null,
            "align_content": null,
            "visibility": "visible",
            "align_self": null,
            "height": null,
            "min_height": null,
            "padding": null,
            "grid_auto_rows": null,
            "grid_gap": null,
            "max_width": null,
            "order": null,
            "_view_module_version": "1.2.0",
            "grid_template_areas": null,
            "object_position": null,
            "object_fit": null,
            "grid_auto_columns": null,
            "margin": "5px",
            "display": null,
            "left": null
          }
        },
        "ecfaee2918094c9a9ce42afa9dc3154a": {
          "model_module": "@jupyter-widgets/controls",
          "model_name": "ImageModel",
          "state": {
            "_view_name": "ImageView",
            "_dom_classes": [],
            "_model_name": "ImageModel",
            "format": "png",
            "_view_module": "@jupyter-widgets/controls",
            "_model_module_version": "1.5.0",
            "_view_count": null,
            "width": "",
            "_view_module_version": "1.5.0",
            "layout": "IPY_MODEL_d77a3e5225af4a06bfdd3c0374754611",
            "height": "",
            "_model_module": "@jupyter-widgets/controls"
          }
        },
        "d78bf0c743014a3589398772103ae7b8": {
          "model_module": "@jupyter-widgets/controls",
          "model_name": "ButtonModel",
          "state": {
            "_view_name": "ButtonView",
            "style": "IPY_MODEL_cd2b5338a675464d82142ce421d57b7a",
            "_dom_classes": [],
            "description": "Delete",
            "_model_name": "ButtonModel",
            "button_style": "",
            "_view_module": "@jupyter-widgets/controls",
            "_model_module_version": "1.5.0",
            "tooltip": "",
            "_view_count": null,
            "disabled": false,
            "_view_module_version": "1.5.0",
            "layout": "IPY_MODEL_2af27fb062d547b9b6478242ef10f6c4",
            "_model_module": "@jupyter-widgets/controls",
            "icon": ""
          }
        },
        "1e3fd9b610b34c3598472754e2d02e0d": {
          "model_module": "@jupyter-widgets/base",
          "model_name": "LayoutModel",
          "state": {
            "_view_name": "LayoutView",
            "grid_template_rows": null,
            "right": null,
            "justify_content": null,
            "_view_module": "@jupyter-widgets/base",
            "overflow": null,
            "_model_module_version": "1.2.0",
            "_view_count": null,
            "flex_flow": null,
            "width": null,
            "min_width": null,
            "border": null,
            "align_items": null,
            "bottom": null,
            "_model_module": "@jupyter-widgets/base",
            "top": null,
            "grid_column": null,
            "overflow_y": null,
            "overflow_x": null,
            "grid_auto_flow": null,
            "grid_area": null,
            "grid_template_columns": null,
            "flex": null,
            "_model_name": "LayoutModel",
            "justify_items": null,
            "grid_row": null,
            "max_height": null,
            "align_content": null,
            "visibility": "visible",
            "align_self": null,
            "height": null,
            "min_height": null,
            "padding": null,
            "grid_auto_rows": null,
            "grid_gap": null,
            "max_width": null,
            "order": null,
            "_view_module_version": "1.2.0",
            "grid_template_areas": null,
            "object_position": null,
            "object_fit": null,
            "grid_auto_columns": null,
            "margin": "5px",
            "display": null,
            "left": null
          }
        },
        "d6ab420c8ba04bf6893cd5e176eebe3b": {
          "model_module": "@jupyter-widgets/controls",
          "model_name": "ImageModel",
          "state": {
            "_view_name": "ImageView",
            "_dom_classes": [],
            "_model_name": "ImageModel",
            "format": "png",
            "_view_module": "@jupyter-widgets/controls",
            "_model_module_version": "1.5.0",
            "_view_count": null,
            "width": "",
            "_view_module_version": "1.5.0",
            "layout": "IPY_MODEL_bc2fef2f6a4a4766bdf41989494410d6",
            "height": "",
            "_model_module": "@jupyter-widgets/controls"
          }
        },
        "479a1d9bfe1244618d4eb85d06f9f66b": {
          "model_module": "@jupyter-widgets/controls",
          "model_name": "ButtonModel",
          "state": {
            "_view_name": "ButtonView",
            "style": "IPY_MODEL_769318170e4c473c8001ff93d0a68625",
            "_dom_classes": [],
            "description": "Delete",
            "_model_name": "ButtonModel",
            "button_style": "",
            "_view_module": "@jupyter-widgets/controls",
            "_model_module_version": "1.5.0",
            "tooltip": "",
            "_view_count": null,
            "disabled": false,
            "_view_module_version": "1.5.0",
            "layout": "IPY_MODEL_759edc371418462eae5f63c8ddaf228f",
            "_model_module": "@jupyter-widgets/controls",
            "icon": ""
          }
        },
        "e419a342a28c4c39a59d708eefac4e80": {
          "model_module": "@jupyter-widgets/base",
          "model_name": "LayoutModel",
          "state": {
            "_view_name": "LayoutView",
            "grid_template_rows": null,
            "right": null,
            "justify_content": null,
            "_view_module": "@jupyter-widgets/base",
            "overflow": null,
            "_model_module_version": "1.2.0",
            "_view_count": null,
            "flex_flow": null,
            "width": null,
            "min_width": null,
            "border": null,
            "align_items": null,
            "bottom": null,
            "_model_module": "@jupyter-widgets/base",
            "top": null,
            "grid_column": null,
            "overflow_y": null,
            "overflow_x": null,
            "grid_auto_flow": null,
            "grid_area": null,
            "grid_template_columns": null,
            "flex": null,
            "_model_name": "LayoutModel",
            "justify_items": null,
            "grid_row": null,
            "max_height": null,
            "align_content": null,
            "visibility": "visible",
            "align_self": null,
            "height": null,
            "min_height": null,
            "padding": null,
            "grid_auto_rows": null,
            "grid_gap": null,
            "max_width": null,
            "order": null,
            "_view_module_version": "1.2.0",
            "grid_template_areas": null,
            "object_position": null,
            "object_fit": null,
            "grid_auto_columns": null,
            "margin": "5px",
            "display": null,
            "left": null
          }
        },
        "1545f22fbbf94734919929f18f8dd658": {
          "model_module": "@jupyter-widgets/controls",
          "model_name": "ImageModel",
          "state": {
            "_view_name": "ImageView",
            "_dom_classes": [],
            "_model_name": "ImageModel",
            "format": "png",
            "_view_module": "@jupyter-widgets/controls",
            "_model_module_version": "1.5.0",
            "_view_count": null,
            "width": "",
            "_view_module_version": "1.5.0",
            "layout": "IPY_MODEL_79713665bc144fe7beb223e98eca7e02",
            "height": "",
            "_model_module": "@jupyter-widgets/controls"
          }
        },
        "5111c21c62554c329e9b9ee99f88b7a8": {
          "model_module": "@jupyter-widgets/controls",
          "model_name": "ButtonModel",
          "state": {
            "_view_name": "ButtonView",
            "style": "IPY_MODEL_e1811b7d762f487b85dfd19e8da5121b",
            "_dom_classes": [],
            "description": "Delete",
            "_model_name": "ButtonModel",
            "button_style": "",
            "_view_module": "@jupyter-widgets/controls",
            "_model_module_version": "1.5.0",
            "tooltip": "",
            "_view_count": null,
            "disabled": false,
            "_view_module_version": "1.5.0",
            "layout": "IPY_MODEL_616416cae65e48deb3ba06822238fdb0",
            "_model_module": "@jupyter-widgets/controls",
            "icon": ""
          }
        },
        "900fcdbb41d74a0ab2e9e5268a513e5d": {
          "model_module": "@jupyter-widgets/base",
          "model_name": "LayoutModel",
          "state": {
            "_view_name": "LayoutView",
            "grid_template_rows": null,
            "right": null,
            "justify_content": null,
            "_view_module": "@jupyter-widgets/base",
            "overflow": null,
            "_model_module_version": "1.2.0",
            "_view_count": null,
            "flex_flow": null,
            "width": null,
            "min_width": null,
            "border": null,
            "align_items": null,
            "bottom": null,
            "_model_module": "@jupyter-widgets/base",
            "top": null,
            "grid_column": null,
            "overflow_y": null,
            "overflow_x": null,
            "grid_auto_flow": null,
            "grid_area": null,
            "grid_template_columns": null,
            "flex": null,
            "_model_name": "LayoutModel",
            "justify_items": null,
            "grid_row": null,
            "max_height": null,
            "align_content": null,
            "visibility": "visible",
            "align_self": null,
            "height": null,
            "min_height": null,
            "padding": null,
            "grid_auto_rows": null,
            "grid_gap": null,
            "max_width": null,
            "order": null,
            "_view_module_version": "1.2.0",
            "grid_template_areas": null,
            "object_position": null,
            "object_fit": null,
            "grid_auto_columns": null,
            "margin": "5px",
            "display": null,
            "left": null
          }
        },
        "941c3ddeb1d24087a9953149306355bc": {
          "model_module": "@jupyter-widgets/controls",
          "model_name": "ImageModel",
          "state": {
            "_view_name": "ImageView",
            "_dom_classes": [],
            "_model_name": "ImageModel",
            "format": "png",
            "_view_module": "@jupyter-widgets/controls",
            "_model_module_version": "1.5.0",
            "_view_count": null,
            "width": "",
            "_view_module_version": "1.5.0",
            "layout": "IPY_MODEL_ca4b58cc7f8b4ae99727d84c55b1f16f",
            "height": "",
            "_model_module": "@jupyter-widgets/controls"
          }
        },
        "f388797a5fb64b7298b847219204a3af": {
          "model_module": "@jupyter-widgets/controls",
          "model_name": "ButtonModel",
          "state": {
            "_view_name": "ButtonView",
            "style": "IPY_MODEL_417d9dff5c2b453ca35f21dc1d165488",
            "_dom_classes": [],
            "description": "Delete",
            "_model_name": "ButtonModel",
            "button_style": "",
            "_view_module": "@jupyter-widgets/controls",
            "_model_module_version": "1.5.0",
            "tooltip": "",
            "_view_count": null,
            "disabled": false,
            "_view_module_version": "1.5.0",
            "layout": "IPY_MODEL_6e46fc840032426e8c77d4f3858db752",
            "_model_module": "@jupyter-widgets/controls",
            "icon": ""
          }
        },
        "5ac105dd23e941aeb81f458625a5fd41": {
          "model_module": "@jupyter-widgets/base",
          "model_name": "LayoutModel",
          "state": {
            "_view_name": "LayoutView",
            "grid_template_rows": null,
            "right": null,
            "justify_content": null,
            "_view_module": "@jupyter-widgets/base",
            "overflow": null,
            "_model_module_version": "1.2.0",
            "_view_count": null,
            "flex_flow": null,
            "width": null,
            "min_width": null,
            "border": null,
            "align_items": null,
            "bottom": null,
            "_model_module": "@jupyter-widgets/base",
            "top": null,
            "grid_column": null,
            "overflow_y": null,
            "overflow_x": null,
            "grid_auto_flow": null,
            "grid_area": null,
            "grid_template_columns": null,
            "flex": null,
            "_model_name": "LayoutModel",
            "justify_items": null,
            "grid_row": null,
            "max_height": null,
            "align_content": null,
            "visibility": "visible",
            "align_self": null,
            "height": null,
            "min_height": null,
            "padding": null,
            "grid_auto_rows": null,
            "grid_gap": null,
            "max_width": null,
            "order": null,
            "_view_module_version": "1.2.0",
            "grid_template_areas": null,
            "object_position": null,
            "object_fit": null,
            "grid_auto_columns": null,
            "margin": "5px",
            "display": null,
            "left": null
          }
        },
        "a545ea584c6f4f14b5e89378378da522": {
          "model_module": "@jupyter-widgets/controls",
          "model_name": "ImageModel",
          "state": {
            "_view_name": "ImageView",
            "_dom_classes": [],
            "_model_name": "ImageModel",
            "format": "png",
            "_view_module": "@jupyter-widgets/controls",
            "_model_module_version": "1.5.0",
            "_view_count": null,
            "width": "",
            "_view_module_version": "1.5.0",
            "layout": "IPY_MODEL_e9d0989c12fa479c86a5f6e256824b36",
            "height": "",
            "_model_module": "@jupyter-widgets/controls"
          }
        },
        "38fae49595df4c558edca234364c2618": {
          "model_module": "@jupyter-widgets/controls",
          "model_name": "ButtonModel",
          "state": {
            "_view_name": "ButtonView",
            "style": "IPY_MODEL_d9295e1cf5f2482ea895bb6999dc94ad",
            "_dom_classes": [],
            "description": "Delete",
            "_model_name": "ButtonModel",
            "button_style": "",
            "_view_module": "@jupyter-widgets/controls",
            "_model_module_version": "1.5.0",
            "tooltip": "",
            "_view_count": null,
            "disabled": false,
            "_view_module_version": "1.5.0",
            "layout": "IPY_MODEL_036c92ea16f64456b99b0df25c80a2b7",
            "_model_module": "@jupyter-widgets/controls",
            "icon": ""
          }
        },
        "5e2e2427805c41e894e4a82578a68228": {
          "model_module": "@jupyter-widgets/base",
          "model_name": "LayoutModel",
          "state": {
            "_view_name": "LayoutView",
            "grid_template_rows": null,
            "right": null,
            "justify_content": null,
            "_view_module": "@jupyter-widgets/base",
            "overflow": null,
            "_model_module_version": "1.2.0",
            "_view_count": null,
            "flex_flow": null,
            "width": "150px",
            "min_width": null,
            "border": null,
            "align_items": null,
            "bottom": null,
            "_model_module": "@jupyter-widgets/base",
            "top": null,
            "grid_column": null,
            "overflow_y": null,
            "overflow_x": null,
            "grid_auto_flow": null,
            "grid_area": null,
            "grid_template_columns": null,
            "flex": null,
            "_model_name": "LayoutModel",
            "justify_items": null,
            "grid_row": null,
            "max_height": null,
            "align_content": null,
            "visibility": null,
            "align_self": null,
            "height": null,
            "min_height": null,
            "padding": null,
            "grid_auto_rows": null,
            "grid_gap": null,
            "max_width": null,
            "order": null,
            "_view_module_version": "1.2.0",
            "grid_template_areas": null,
            "object_position": null,
            "object_fit": null,
            "grid_auto_columns": null,
            "margin": null,
            "display": null,
            "left": null
          }
        },
        "f10baf0cd2c54735a66881cf5e5382e2": {
          "model_module": "@jupyter-widgets/controls",
          "model_name": "ButtonStyleModel",
          "state": {
            "_view_name": "StyleView",
            "_model_name": "ButtonStyleModel",
            "_view_module": "@jupyter-widgets/base",
            "_model_module_version": "1.5.0",
            "_view_count": null,
            "button_color": null,
            "font_weight": "",
            "_view_module_version": "1.2.0",
            "_model_module": "@jupyter-widgets/controls"
          }
        },
        "9d2cb7ad175b43a7af69ee43eafa2e52": {
          "model_module": "@jupyter-widgets/base",
          "model_name": "LayoutModel",
          "state": {
            "_view_name": "LayoutView",
            "grid_template_rows": null,
            "right": null,
            "justify_content": null,
            "_view_module": "@jupyter-widgets/base",
            "overflow": null,
            "_model_module_version": "1.2.0",
            "_view_count": null,
            "flex_flow": null,
            "width": null,
            "min_width": null,
            "border": null,
            "align_items": null,
            "bottom": null,
            "_model_module": "@jupyter-widgets/base",
            "top": null,
            "grid_column": null,
            "overflow_y": null,
            "overflow_x": null,
            "grid_auto_flow": null,
            "grid_area": null,
            "grid_template_columns": null,
            "flex": null,
            "_model_name": "LayoutModel",
            "justify_items": null,
            "grid_row": null,
            "max_height": null,
            "align_content": null,
            "visibility": null,
            "align_self": null,
            "height": null,
            "min_height": null,
            "padding": null,
            "grid_auto_rows": null,
            "grid_gap": null,
            "max_width": null,
            "order": null,
            "_view_module_version": "1.2.0",
            "grid_template_areas": null,
            "object_position": null,
            "object_fit": null,
            "grid_auto_columns": null,
            "margin": null,
            "display": null,
            "left": null
          }
        },
        "a2f666b04f5e48528a81a32527b68588": {
          "model_module": "@jupyter-widgets/base",
          "model_name": "LayoutModel",
          "state": {
            "_view_name": "LayoutView",
            "grid_template_rows": null,
            "right": null,
            "justify_content": null,
            "_view_module": "@jupyter-widgets/base",
            "overflow": null,
            "_model_module_version": "1.2.0",
            "_view_count": null,
            "flex_flow": null,
            "width": "150px",
            "min_width": null,
            "border": null,
            "align_items": null,
            "bottom": null,
            "_model_module": "@jupyter-widgets/base",
            "top": null,
            "grid_column": null,
            "overflow_y": null,
            "overflow_x": null,
            "grid_auto_flow": null,
            "grid_area": null,
            "grid_template_columns": null,
            "flex": null,
            "_model_name": "LayoutModel",
            "justify_items": null,
            "grid_row": null,
            "max_height": null,
            "align_content": null,
            "visibility": null,
            "align_self": null,
            "height": null,
            "min_height": null,
            "padding": null,
            "grid_auto_rows": null,
            "grid_gap": null,
            "max_width": null,
            "order": null,
            "_view_module_version": "1.2.0",
            "grid_template_areas": null,
            "object_position": null,
            "object_fit": null,
            "grid_auto_columns": null,
            "margin": null,
            "display": null,
            "left": null
          }
        },
        "d15b1d3908604f51a4f1765d382618eb": {
          "model_module": "@jupyter-widgets/controls",
          "model_name": "ButtonStyleModel",
          "state": {
            "_view_name": "StyleView",
            "_model_name": "ButtonStyleModel",
            "_view_module": "@jupyter-widgets/base",
            "_model_module_version": "1.5.0",
            "_view_count": null,
            "button_color": null,
            "font_weight": "",
            "_view_module_version": "1.2.0",
            "_model_module": "@jupyter-widgets/controls"
          }
        },
        "5fa89a2b987e4f6f91b8d6c3ca4a4c75": {
          "model_module": "@jupyter-widgets/base",
          "model_name": "LayoutModel",
          "state": {
            "_view_name": "LayoutView",
            "grid_template_rows": null,
            "right": null,
            "justify_content": null,
            "_view_module": "@jupyter-widgets/base",
            "overflow": null,
            "_model_module_version": "1.2.0",
            "_view_count": null,
            "flex_flow": null,
            "width": null,
            "min_width": null,
            "border": null,
            "align_items": null,
            "bottom": null,
            "_model_module": "@jupyter-widgets/base",
            "top": null,
            "grid_column": null,
            "overflow_y": null,
            "overflow_x": null,
            "grid_auto_flow": null,
            "grid_area": null,
            "grid_template_columns": null,
            "flex": null,
            "_model_name": "LayoutModel",
            "justify_items": null,
            "grid_row": null,
            "max_height": null,
            "align_content": null,
            "visibility": null,
            "align_self": null,
            "height": null,
            "min_height": null,
            "padding": null,
            "grid_auto_rows": null,
            "grid_gap": null,
            "max_width": null,
            "order": null,
            "_view_module_version": "1.2.0",
            "grid_template_areas": null,
            "object_position": null,
            "object_fit": null,
            "grid_auto_columns": null,
            "margin": null,
            "display": null,
            "left": null
          }
        },
        "c96e45a85d554928a46a4568a1d929e7": {
          "model_module": "@jupyter-widgets/base",
          "model_name": "LayoutModel",
          "state": {
            "_view_name": "LayoutView",
            "grid_template_rows": null,
            "right": null,
            "justify_content": null,
            "_view_module": "@jupyter-widgets/base",
            "overflow": null,
            "_model_module_version": "1.2.0",
            "_view_count": null,
            "flex_flow": null,
            "width": "150px",
            "min_width": null,
            "border": null,
            "align_items": null,
            "bottom": null,
            "_model_module": "@jupyter-widgets/base",
            "top": null,
            "grid_column": null,
            "overflow_y": null,
            "overflow_x": null,
            "grid_auto_flow": null,
            "grid_area": null,
            "grid_template_columns": null,
            "flex": null,
            "_model_name": "LayoutModel",
            "justify_items": null,
            "grid_row": null,
            "max_height": null,
            "align_content": null,
            "visibility": null,
            "align_self": null,
            "height": null,
            "min_height": null,
            "padding": null,
            "grid_auto_rows": null,
            "grid_gap": null,
            "max_width": null,
            "order": null,
            "_view_module_version": "1.2.0",
            "grid_template_areas": null,
            "object_position": null,
            "object_fit": null,
            "grid_auto_columns": null,
            "margin": null,
            "display": null,
            "left": null
          }
        },
        "d2db648ce8d94cdb88d72b32633a79b2": {
          "model_module": "@jupyter-widgets/controls",
          "model_name": "ButtonStyleModel",
          "state": {
            "_view_name": "StyleView",
            "_model_name": "ButtonStyleModel",
            "_view_module": "@jupyter-widgets/base",
            "_model_module_version": "1.5.0",
            "_view_count": null,
            "button_color": null,
            "font_weight": "",
            "_view_module_version": "1.2.0",
            "_model_module": "@jupyter-widgets/controls"
          }
        },
        "a95ebdfb1aab4147b9346e5d19333bf0": {
          "model_module": "@jupyter-widgets/base",
          "model_name": "LayoutModel",
          "state": {
            "_view_name": "LayoutView",
            "grid_template_rows": null,
            "right": null,
            "justify_content": null,
            "_view_module": "@jupyter-widgets/base",
            "overflow": null,
            "_model_module_version": "1.2.0",
            "_view_count": null,
            "flex_flow": null,
            "width": null,
            "min_width": null,
            "border": null,
            "align_items": null,
            "bottom": null,
            "_model_module": "@jupyter-widgets/base",
            "top": null,
            "grid_column": null,
            "overflow_y": null,
            "overflow_x": null,
            "grid_auto_flow": null,
            "grid_area": null,
            "grid_template_columns": null,
            "flex": null,
            "_model_name": "LayoutModel",
            "justify_items": null,
            "grid_row": null,
            "max_height": null,
            "align_content": null,
            "visibility": null,
            "align_self": null,
            "height": null,
            "min_height": null,
            "padding": null,
            "grid_auto_rows": null,
            "grid_gap": null,
            "max_width": null,
            "order": null,
            "_view_module_version": "1.2.0",
            "grid_template_areas": null,
            "object_position": null,
            "object_fit": null,
            "grid_auto_columns": null,
            "margin": null,
            "display": null,
            "left": null
          }
        },
        "d77a3e5225af4a06bfdd3c0374754611": {
          "model_module": "@jupyter-widgets/base",
          "model_name": "LayoutModel",
          "state": {
            "_view_name": "LayoutView",
            "grid_template_rows": null,
            "right": null,
            "justify_content": null,
            "_view_module": "@jupyter-widgets/base",
            "overflow": null,
            "_model_module_version": "1.2.0",
            "_view_count": null,
            "flex_flow": null,
            "width": "150px",
            "min_width": null,
            "border": null,
            "align_items": null,
            "bottom": null,
            "_model_module": "@jupyter-widgets/base",
            "top": null,
            "grid_column": null,
            "overflow_y": null,
            "overflow_x": null,
            "grid_auto_flow": null,
            "grid_area": null,
            "grid_template_columns": null,
            "flex": null,
            "_model_name": "LayoutModel",
            "justify_items": null,
            "grid_row": null,
            "max_height": null,
            "align_content": null,
            "visibility": null,
            "align_self": null,
            "height": null,
            "min_height": null,
            "padding": null,
            "grid_auto_rows": null,
            "grid_gap": null,
            "max_width": null,
            "order": null,
            "_view_module_version": "1.2.0",
            "grid_template_areas": null,
            "object_position": null,
            "object_fit": null,
            "grid_auto_columns": null,
            "margin": null,
            "display": null,
            "left": null
          }
        },
        "cd2b5338a675464d82142ce421d57b7a": {
          "model_module": "@jupyter-widgets/controls",
          "model_name": "ButtonStyleModel",
          "state": {
            "_view_name": "StyleView",
            "_model_name": "ButtonStyleModel",
            "_view_module": "@jupyter-widgets/base",
            "_model_module_version": "1.5.0",
            "_view_count": null,
            "button_color": null,
            "font_weight": "",
            "_view_module_version": "1.2.0",
            "_model_module": "@jupyter-widgets/controls"
          }
        },
        "2af27fb062d547b9b6478242ef10f6c4": {
          "model_module": "@jupyter-widgets/base",
          "model_name": "LayoutModel",
          "state": {
            "_view_name": "LayoutView",
            "grid_template_rows": null,
            "right": null,
            "justify_content": null,
            "_view_module": "@jupyter-widgets/base",
            "overflow": null,
            "_model_module_version": "1.2.0",
            "_view_count": null,
            "flex_flow": null,
            "width": null,
            "min_width": null,
            "border": null,
            "align_items": null,
            "bottom": null,
            "_model_module": "@jupyter-widgets/base",
            "top": null,
            "grid_column": null,
            "overflow_y": null,
            "overflow_x": null,
            "grid_auto_flow": null,
            "grid_area": null,
            "grid_template_columns": null,
            "flex": null,
            "_model_name": "LayoutModel",
            "justify_items": null,
            "grid_row": null,
            "max_height": null,
            "align_content": null,
            "visibility": null,
            "align_self": null,
            "height": null,
            "min_height": null,
            "padding": null,
            "grid_auto_rows": null,
            "grid_gap": null,
            "max_width": null,
            "order": null,
            "_view_module_version": "1.2.0",
            "grid_template_areas": null,
            "object_position": null,
            "object_fit": null,
            "grid_auto_columns": null,
            "margin": null,
            "display": null,
            "left": null
          }
        },
        "bc2fef2f6a4a4766bdf41989494410d6": {
          "model_module": "@jupyter-widgets/base",
          "model_name": "LayoutModel",
          "state": {
            "_view_name": "LayoutView",
            "grid_template_rows": null,
            "right": null,
            "justify_content": null,
            "_view_module": "@jupyter-widgets/base",
            "overflow": null,
            "_model_module_version": "1.2.0",
            "_view_count": null,
            "flex_flow": null,
            "width": "150px",
            "min_width": null,
            "border": null,
            "align_items": null,
            "bottom": null,
            "_model_module": "@jupyter-widgets/base",
            "top": null,
            "grid_column": null,
            "overflow_y": null,
            "overflow_x": null,
            "grid_auto_flow": null,
            "grid_area": null,
            "grid_template_columns": null,
            "flex": null,
            "_model_name": "LayoutModel",
            "justify_items": null,
            "grid_row": null,
            "max_height": null,
            "align_content": null,
            "visibility": null,
            "align_self": null,
            "height": null,
            "min_height": null,
            "padding": null,
            "grid_auto_rows": null,
            "grid_gap": null,
            "max_width": null,
            "order": null,
            "_view_module_version": "1.2.0",
            "grid_template_areas": null,
            "object_position": null,
            "object_fit": null,
            "grid_auto_columns": null,
            "margin": null,
            "display": null,
            "left": null
          }
        },
        "769318170e4c473c8001ff93d0a68625": {
          "model_module": "@jupyter-widgets/controls",
          "model_name": "ButtonStyleModel",
          "state": {
            "_view_name": "StyleView",
            "_model_name": "ButtonStyleModel",
            "_view_module": "@jupyter-widgets/base",
            "_model_module_version": "1.5.0",
            "_view_count": null,
            "button_color": null,
            "font_weight": "",
            "_view_module_version": "1.2.0",
            "_model_module": "@jupyter-widgets/controls"
          }
        },
        "759edc371418462eae5f63c8ddaf228f": {
          "model_module": "@jupyter-widgets/base",
          "model_name": "LayoutModel",
          "state": {
            "_view_name": "LayoutView",
            "grid_template_rows": null,
            "right": null,
            "justify_content": null,
            "_view_module": "@jupyter-widgets/base",
            "overflow": null,
            "_model_module_version": "1.2.0",
            "_view_count": null,
            "flex_flow": null,
            "width": null,
            "min_width": null,
            "border": null,
            "align_items": null,
            "bottom": null,
            "_model_module": "@jupyter-widgets/base",
            "top": null,
            "grid_column": null,
            "overflow_y": null,
            "overflow_x": null,
            "grid_auto_flow": null,
            "grid_area": null,
            "grid_template_columns": null,
            "flex": null,
            "_model_name": "LayoutModel",
            "justify_items": null,
            "grid_row": null,
            "max_height": null,
            "align_content": null,
            "visibility": null,
            "align_self": null,
            "height": null,
            "min_height": null,
            "padding": null,
            "grid_auto_rows": null,
            "grid_gap": null,
            "max_width": null,
            "order": null,
            "_view_module_version": "1.2.0",
            "grid_template_areas": null,
            "object_position": null,
            "object_fit": null,
            "grid_auto_columns": null,
            "margin": null,
            "display": null,
            "left": null
          }
        },
        "79713665bc144fe7beb223e98eca7e02": {
          "model_module": "@jupyter-widgets/base",
          "model_name": "LayoutModel",
          "state": {
            "_view_name": "LayoutView",
            "grid_template_rows": null,
            "right": null,
            "justify_content": null,
            "_view_module": "@jupyter-widgets/base",
            "overflow": null,
            "_model_module_version": "1.2.0",
            "_view_count": null,
            "flex_flow": null,
            "width": "150px",
            "min_width": null,
            "border": null,
            "align_items": null,
            "bottom": null,
            "_model_module": "@jupyter-widgets/base",
            "top": null,
            "grid_column": null,
            "overflow_y": null,
            "overflow_x": null,
            "grid_auto_flow": null,
            "grid_area": null,
            "grid_template_columns": null,
            "flex": null,
            "_model_name": "LayoutModel",
            "justify_items": null,
            "grid_row": null,
            "max_height": null,
            "align_content": null,
            "visibility": null,
            "align_self": null,
            "height": null,
            "min_height": null,
            "padding": null,
            "grid_auto_rows": null,
            "grid_gap": null,
            "max_width": null,
            "order": null,
            "_view_module_version": "1.2.0",
            "grid_template_areas": null,
            "object_position": null,
            "object_fit": null,
            "grid_auto_columns": null,
            "margin": null,
            "display": null,
            "left": null
          }
        },
        "e1811b7d762f487b85dfd19e8da5121b": {
          "model_module": "@jupyter-widgets/controls",
          "model_name": "ButtonStyleModel",
          "state": {
            "_view_name": "StyleView",
            "_model_name": "ButtonStyleModel",
            "_view_module": "@jupyter-widgets/base",
            "_model_module_version": "1.5.0",
            "_view_count": null,
            "button_color": null,
            "font_weight": "",
            "_view_module_version": "1.2.0",
            "_model_module": "@jupyter-widgets/controls"
          }
        },
        "616416cae65e48deb3ba06822238fdb0": {
          "model_module": "@jupyter-widgets/base",
          "model_name": "LayoutModel",
          "state": {
            "_view_name": "LayoutView",
            "grid_template_rows": null,
            "right": null,
            "justify_content": null,
            "_view_module": "@jupyter-widgets/base",
            "overflow": null,
            "_model_module_version": "1.2.0",
            "_view_count": null,
            "flex_flow": null,
            "width": null,
            "min_width": null,
            "border": null,
            "align_items": null,
            "bottom": null,
            "_model_module": "@jupyter-widgets/base",
            "top": null,
            "grid_column": null,
            "overflow_y": null,
            "overflow_x": null,
            "grid_auto_flow": null,
            "grid_area": null,
            "grid_template_columns": null,
            "flex": null,
            "_model_name": "LayoutModel",
            "justify_items": null,
            "grid_row": null,
            "max_height": null,
            "align_content": null,
            "visibility": null,
            "align_self": null,
            "height": null,
            "min_height": null,
            "padding": null,
            "grid_auto_rows": null,
            "grid_gap": null,
            "max_width": null,
            "order": null,
            "_view_module_version": "1.2.0",
            "grid_template_areas": null,
            "object_position": null,
            "object_fit": null,
            "grid_auto_columns": null,
            "margin": null,
            "display": null,
            "left": null
          }
        },
        "ca4b58cc7f8b4ae99727d84c55b1f16f": {
          "model_module": "@jupyter-widgets/base",
          "model_name": "LayoutModel",
          "state": {
            "_view_name": "LayoutView",
            "grid_template_rows": null,
            "right": null,
            "justify_content": null,
            "_view_module": "@jupyter-widgets/base",
            "overflow": null,
            "_model_module_version": "1.2.0",
            "_view_count": null,
            "flex_flow": null,
            "width": "150px",
            "min_width": null,
            "border": null,
            "align_items": null,
            "bottom": null,
            "_model_module": "@jupyter-widgets/base",
            "top": null,
            "grid_column": null,
            "overflow_y": null,
            "overflow_x": null,
            "grid_auto_flow": null,
            "grid_area": null,
            "grid_template_columns": null,
            "flex": null,
            "_model_name": "LayoutModel",
            "justify_items": null,
            "grid_row": null,
            "max_height": null,
            "align_content": null,
            "visibility": null,
            "align_self": null,
            "height": null,
            "min_height": null,
            "padding": null,
            "grid_auto_rows": null,
            "grid_gap": null,
            "max_width": null,
            "order": null,
            "_view_module_version": "1.2.0",
            "grid_template_areas": null,
            "object_position": null,
            "object_fit": null,
            "grid_auto_columns": null,
            "margin": null,
            "display": null,
            "left": null
          }
        },
        "417d9dff5c2b453ca35f21dc1d165488": {
          "model_module": "@jupyter-widgets/controls",
          "model_name": "ButtonStyleModel",
          "state": {
            "_view_name": "StyleView",
            "_model_name": "ButtonStyleModel",
            "_view_module": "@jupyter-widgets/base",
            "_model_module_version": "1.5.0",
            "_view_count": null,
            "button_color": null,
            "font_weight": "",
            "_view_module_version": "1.2.0",
            "_model_module": "@jupyter-widgets/controls"
          }
        },
        "6e46fc840032426e8c77d4f3858db752": {
          "model_module": "@jupyter-widgets/base",
          "model_name": "LayoutModel",
          "state": {
            "_view_name": "LayoutView",
            "grid_template_rows": null,
            "right": null,
            "justify_content": null,
            "_view_module": "@jupyter-widgets/base",
            "overflow": null,
            "_model_module_version": "1.2.0",
            "_view_count": null,
            "flex_flow": null,
            "width": null,
            "min_width": null,
            "border": null,
            "align_items": null,
            "bottom": null,
            "_model_module": "@jupyter-widgets/base",
            "top": null,
            "grid_column": null,
            "overflow_y": null,
            "overflow_x": null,
            "grid_auto_flow": null,
            "grid_area": null,
            "grid_template_columns": null,
            "flex": null,
            "_model_name": "LayoutModel",
            "justify_items": null,
            "grid_row": null,
            "max_height": null,
            "align_content": null,
            "visibility": null,
            "align_self": null,
            "height": null,
            "min_height": null,
            "padding": null,
            "grid_auto_rows": null,
            "grid_gap": null,
            "max_width": null,
            "order": null,
            "_view_module_version": "1.2.0",
            "grid_template_areas": null,
            "object_position": null,
            "object_fit": null,
            "grid_auto_columns": null,
            "margin": null,
            "display": null,
            "left": null
          }
        },
        "e9d0989c12fa479c86a5f6e256824b36": {
          "model_module": "@jupyter-widgets/base",
          "model_name": "LayoutModel",
          "state": {
            "_view_name": "LayoutView",
            "grid_template_rows": null,
            "right": null,
            "justify_content": null,
            "_view_module": "@jupyter-widgets/base",
            "overflow": null,
            "_model_module_version": "1.2.0",
            "_view_count": null,
            "flex_flow": null,
            "width": "150px",
            "min_width": null,
            "border": null,
            "align_items": null,
            "bottom": null,
            "_model_module": "@jupyter-widgets/base",
            "top": null,
            "grid_column": null,
            "overflow_y": null,
            "overflow_x": null,
            "grid_auto_flow": null,
            "grid_area": null,
            "grid_template_columns": null,
            "flex": null,
            "_model_name": "LayoutModel",
            "justify_items": null,
            "grid_row": null,
            "max_height": null,
            "align_content": null,
            "visibility": null,
            "align_self": null,
            "height": null,
            "min_height": null,
            "padding": null,
            "grid_auto_rows": null,
            "grid_gap": null,
            "max_width": null,
            "order": null,
            "_view_module_version": "1.2.0",
            "grid_template_areas": null,
            "object_position": null,
            "object_fit": null,
            "grid_auto_columns": null,
            "margin": null,
            "display": null,
            "left": null
          }
        },
        "d9295e1cf5f2482ea895bb6999dc94ad": {
          "model_module": "@jupyter-widgets/controls",
          "model_name": "ButtonStyleModel",
          "state": {
            "_view_name": "StyleView",
            "_model_name": "ButtonStyleModel",
            "_view_module": "@jupyter-widgets/base",
            "_model_module_version": "1.5.0",
            "_view_count": null,
            "button_color": null,
            "font_weight": "",
            "_view_module_version": "1.2.0",
            "_model_module": "@jupyter-widgets/controls"
          }
        },
        "036c92ea16f64456b99b0df25c80a2b7": {
          "model_module": "@jupyter-widgets/base",
          "model_name": "LayoutModel",
          "state": {
            "_view_name": "LayoutView",
            "grid_template_rows": null,
            "right": null,
            "justify_content": null,
            "_view_module": "@jupyter-widgets/base",
            "overflow": null,
            "_model_module_version": "1.2.0",
            "_view_count": null,
            "flex_flow": null,
            "width": null,
            "min_width": null,
            "border": null,
            "align_items": null,
            "bottom": null,
            "_model_module": "@jupyter-widgets/base",
            "top": null,
            "grid_column": null,
            "overflow_y": null,
            "overflow_x": null,
            "grid_auto_flow": null,
            "grid_area": null,
            "grid_template_columns": null,
            "flex": null,
            "_model_name": "LayoutModel",
            "justify_items": null,
            "grid_row": null,
            "max_height": null,
            "align_content": null,
            "visibility": null,
            "align_self": null,
            "height": null,
            "min_height": null,
            "padding": null,
            "grid_auto_rows": null,
            "grid_gap": null,
            "max_width": null,
            "order": null,
            "_view_module_version": "1.2.0",
            "grid_template_areas": null,
            "object_position": null,
            "object_fit": null,
            "grid_auto_columns": null,
            "margin": null,
            "display": null,
            "left": null
          }
        },
        "a3342960798d4da1a58e81da50ee937c": {
          "model_module": "@jupyter-widgets/controls",
          "model_name": "HBoxModel",
          "state": {
            "_view_name": "HBoxView",
            "_dom_classes": [],
            "_model_name": "HBoxModel",
            "_view_module": "@jupyter-widgets/controls",
            "_model_module_version": "1.5.0",
            "_view_count": null,
            "_view_module_version": "1.5.0",
            "box_style": "",
            "layout": "IPY_MODEL_012a3f76b2dd46adb7040144e26cffdb",
            "_model_module": "@jupyter-widgets/controls",
            "children": [
              "IPY_MODEL_851cadaef8664715b593cd521d0be3d3",
              "IPY_MODEL_12484a06ab404105a69aadc74204c598"
            ]
          }
        },
        "012a3f76b2dd46adb7040144e26cffdb": {
          "model_module": "@jupyter-widgets/base",
          "model_name": "LayoutModel",
          "state": {
            "_view_name": "LayoutView",
            "grid_template_rows": null,
            "right": null,
            "justify_content": null,
            "_view_module": "@jupyter-widgets/base",
            "overflow": null,
            "_model_module_version": "1.2.0",
            "_view_count": null,
            "flex_flow": null,
            "width": null,
            "min_width": null,
            "border": null,
            "align_items": null,
            "bottom": null,
            "_model_module": "@jupyter-widgets/base",
            "top": null,
            "grid_column": null,
            "overflow_y": null,
            "overflow_x": null,
            "grid_auto_flow": null,
            "grid_area": null,
            "grid_template_columns": null,
            "flex": null,
            "_model_name": "LayoutModel",
            "justify_items": null,
            "grid_row": null,
            "max_height": null,
            "align_content": null,
            "visibility": null,
            "align_self": null,
            "height": null,
            "min_height": null,
            "padding": null,
            "grid_auto_rows": null,
            "grid_gap": null,
            "max_width": null,
            "order": null,
            "_view_module_version": "1.2.0",
            "grid_template_areas": null,
            "object_position": null,
            "object_fit": null,
            "grid_auto_columns": null,
            "margin": null,
            "display": null,
            "left": null
          }
        },
        "851cadaef8664715b593cd521d0be3d3": {
          "model_module": "@jupyter-widgets/controls",
          "model_name": "FloatProgressModel",
          "state": {
            "_view_name": "ProgressView",
            "style": "IPY_MODEL_e5dbf68efc194c0c8409649fdb953c12",
            "_dom_classes": [],
            "description": "100%",
            "_model_name": "FloatProgressModel",
            "bar_style": "success",
            "max": 46827520,
            "_view_module": "@jupyter-widgets/controls",
            "_model_module_version": "1.5.0",
            "value": 46827520,
            "_view_count": null,
            "_view_module_version": "1.5.0",
            "orientation": "horizontal",
            "min": 0,
            "description_tooltip": null,
            "_model_module": "@jupyter-widgets/controls",
            "layout": "IPY_MODEL_df60a5975c014229a87a1b21bba1300b"
          }
        },
        "12484a06ab404105a69aadc74204c598": {
          "model_module": "@jupyter-widgets/controls",
          "model_name": "HTMLModel",
          "state": {
            "_view_name": "HTMLView",
            "style": "IPY_MODEL_bf92f44bc9fa41ea815069c2f4a9783e",
            "_dom_classes": [],
            "description": "",
            "_model_name": "HTMLModel",
            "placeholder": "​",
            "_view_module": "@jupyter-widgets/controls",
            "_model_module_version": "1.5.0",
            "value": " 44.7M/44.7M [00:02&lt;00:00, 22.7MB/s]",
            "_view_count": null,
            "_view_module_version": "1.5.0",
            "description_tooltip": null,
            "_model_module": "@jupyter-widgets/controls",
            "layout": "IPY_MODEL_7dcd026252e8447a928a6f52644ad268"
          }
        },
        "e5dbf68efc194c0c8409649fdb953c12": {
          "model_module": "@jupyter-widgets/controls",
          "model_name": "ProgressStyleModel",
          "state": {
            "_view_name": "StyleView",
            "_model_name": "ProgressStyleModel",
            "description_width": "initial",
            "_view_module": "@jupyter-widgets/base",
            "_model_module_version": "1.5.0",
            "_view_count": null,
            "_view_module_version": "1.2.0",
            "bar_color": null,
            "_model_module": "@jupyter-widgets/controls"
          }
        },
        "df60a5975c014229a87a1b21bba1300b": {
          "model_module": "@jupyter-widgets/base",
          "model_name": "LayoutModel",
          "state": {
            "_view_name": "LayoutView",
            "grid_template_rows": null,
            "right": null,
            "justify_content": null,
            "_view_module": "@jupyter-widgets/base",
            "overflow": null,
            "_model_module_version": "1.2.0",
            "_view_count": null,
            "flex_flow": null,
            "width": null,
            "min_width": null,
            "border": null,
            "align_items": null,
            "bottom": null,
            "_model_module": "@jupyter-widgets/base",
            "top": null,
            "grid_column": null,
            "overflow_y": null,
            "overflow_x": null,
            "grid_auto_flow": null,
            "grid_area": null,
            "grid_template_columns": null,
            "flex": null,
            "_model_name": "LayoutModel",
            "justify_items": null,
            "grid_row": null,
            "max_height": null,
            "align_content": null,
            "visibility": null,
            "align_self": null,
            "height": null,
            "min_height": null,
            "padding": null,
            "grid_auto_rows": null,
            "grid_gap": null,
            "max_width": null,
            "order": null,
            "_view_module_version": "1.2.0",
            "grid_template_areas": null,
            "object_position": null,
            "object_fit": null,
            "grid_auto_columns": null,
            "margin": null,
            "display": null,
            "left": null
          }
        },
        "bf92f44bc9fa41ea815069c2f4a9783e": {
          "model_module": "@jupyter-widgets/controls",
          "model_name": "DescriptionStyleModel",
          "state": {
            "_view_name": "StyleView",
            "_model_name": "DescriptionStyleModel",
            "description_width": "",
            "_view_module": "@jupyter-widgets/base",
            "_model_module_version": "1.5.0",
            "_view_count": null,
            "_view_module_version": "1.2.0",
            "_model_module": "@jupyter-widgets/controls"
          }
        },
        "7dcd026252e8447a928a6f52644ad268": {
          "model_module": "@jupyter-widgets/base",
          "model_name": "LayoutModel",
          "state": {
            "_view_name": "LayoutView",
            "grid_template_rows": null,
            "right": null,
            "justify_content": null,
            "_view_module": "@jupyter-widgets/base",
            "overflow": null,
            "_model_module_version": "1.2.0",
            "_view_count": null,
            "flex_flow": null,
            "width": null,
            "min_width": null,
            "border": null,
            "align_items": null,
            "bottom": null,
            "_model_module": "@jupyter-widgets/base",
            "top": null,
            "grid_column": null,
            "overflow_y": null,
            "overflow_x": null,
            "grid_auto_flow": null,
            "grid_area": null,
            "grid_template_columns": null,
            "flex": null,
            "_model_name": "LayoutModel",
            "justify_items": null,
            "grid_row": null,
            "max_height": null,
            "align_content": null,
            "visibility": null,
            "align_self": null,
            "height": null,
            "min_height": null,
            "padding": null,
            "grid_auto_rows": null,
            "grid_gap": null,
            "max_width": null,
            "order": null,
            "_view_module_version": "1.2.0",
            "grid_template_areas": null,
            "object_position": null,
            "object_fit": null,
            "grid_auto_columns": null,
            "margin": null,
            "display": null,
            "left": null
          }
        },
        "9974e3169eed43fea5ea6572a4b2d0c0": {
          "model_module": "@jupyter-widgets/controls",
          "model_name": "FileUploadModel",
          "state": {
            "_view_name": "FileUploadView",
            "_counter": 2,
            "style": "IPY_MODEL_4f44c0b2431544f2966915609126f0eb",
            "_dom_classes": [],
            "description": "Upload",
            "multiple": false,
            "_model_name": "FileUploadModel",
            "data": [
              null
            ],
            "button_style": "",
            "_view_module": "@jupyter-widgets/controls",
            "_model_module_version": "1.5.0",
            "accept": "",
            "_view_count": null,
            "disabled": false,
            "_view_module_version": "1.5.0",
            "error": "",
            "description_tooltip": null,
            "metadata": [
              {
                "name": "grizzly1.jpeg",
                "type": "image/jpeg",
                "size": 76421,
                "lastModified": 1622823509546
              }
            ],
            "_model_module": "@jupyter-widgets/controls",
            "layout": "IPY_MODEL_a1c5967cf53e499c9adae11cb2ef2727",
            "icon": "upload"
          }
        },
        "4f44c0b2431544f2966915609126f0eb": {
          "model_module": "@jupyter-widgets/controls",
          "model_name": "ButtonStyleModel",
          "state": {
            "_view_name": "StyleView",
            "_model_name": "ButtonStyleModel",
            "_view_module": "@jupyter-widgets/base",
            "_model_module_version": "1.5.0",
            "_view_count": null,
            "button_color": null,
            "font_weight": "",
            "_view_module_version": "1.2.0",
            "_model_module": "@jupyter-widgets/controls"
          }
        },
        "a1c5967cf53e499c9adae11cb2ef2727": {
          "model_module": "@jupyter-widgets/base",
          "model_name": "LayoutModel",
          "state": {
            "_view_name": "LayoutView",
            "grid_template_rows": null,
            "right": null,
            "justify_content": null,
            "_view_module": "@jupyter-widgets/base",
            "overflow": null,
            "_model_module_version": "1.2.0",
            "_view_count": null,
            "flex_flow": null,
            "width": null,
            "min_width": null,
            "border": null,
            "align_items": null,
            "bottom": null,
            "_model_module": "@jupyter-widgets/base",
            "top": null,
            "grid_column": null,
            "overflow_y": null,
            "overflow_x": null,
            "grid_auto_flow": null,
            "grid_area": null,
            "grid_template_columns": null,
            "flex": null,
            "_model_name": "LayoutModel",
            "justify_items": null,
            "grid_row": null,
            "max_height": null,
            "align_content": null,
            "visibility": null,
            "align_self": null,
            "height": null,
            "min_height": null,
            "padding": null,
            "grid_auto_rows": null,
            "grid_gap": null,
            "max_width": null,
            "order": null,
            "_view_module_version": "1.2.0",
            "grid_template_areas": null,
            "object_position": null,
            "object_fit": null,
            "grid_auto_columns": null,
            "margin": null,
            "display": null,
            "left": null
          }
        },
        "4b408ceaa9334222943c64dfbe1d0b93": {
          "model_module": "@jupyter-widgets/output",
          "model_name": "OutputModel",
          "state": {
            "_view_name": "OutputView",
            "msg_id": "",
            "_dom_classes": [],
            "_model_name": "OutputModel",
            "outputs": [
              {
                "output_type": "display_data",
                "metadata": {
                  "tags": []
                },
                "image/png": "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\n",
                "text/plain": "<PIL.Image.Image image mode=RGB size=128x85 at 0x7F07D3F56450>"
              }
            ],
            "_view_module": "@jupyter-widgets/output",
            "_model_module_version": "1.0.0",
            "_view_count": null,
            "_view_module_version": "1.0.0",
            "layout": "IPY_MODEL_67b74293e6c343b9b1fbfefc4feadbc8",
            "_model_module": "@jupyter-widgets/output"
          }
        },
        "67b74293e6c343b9b1fbfefc4feadbc8": {
          "model_module": "@jupyter-widgets/base",
          "model_name": "LayoutModel",
          "state": {
            "_view_name": "LayoutView",
            "grid_template_rows": null,
            "right": null,
            "justify_content": null,
            "_view_module": "@jupyter-widgets/base",
            "overflow": null,
            "_model_module_version": "1.2.0",
            "_view_count": null,
            "flex_flow": null,
            "width": null,
            "min_width": null,
            "border": null,
            "align_items": null,
            "bottom": null,
            "_model_module": "@jupyter-widgets/base",
            "top": null,
            "grid_column": null,
            "overflow_y": null,
            "overflow_x": null,
            "grid_auto_flow": null,
            "grid_area": null,
            "grid_template_columns": null,
            "flex": null,
            "_model_name": "LayoutModel",
            "justify_items": null,
            "grid_row": null,
            "max_height": null,
            "align_content": null,
            "visibility": null,
            "align_self": null,
            "height": null,
            "min_height": null,
            "padding": null,
            "grid_auto_rows": null,
            "grid_gap": null,
            "max_width": null,
            "order": null,
            "_view_module_version": "1.2.0",
            "grid_template_areas": null,
            "object_position": null,
            "object_fit": null,
            "grid_auto_columns": null,
            "margin": null,
            "display": null,
            "left": null
          }
        },
        "c52af5d98be346d5a3d5c0d8526b78d3": {
          "model_module": "@jupyter-widgets/controls",
          "model_name": "LabelModel",
          "state": {
            "_view_name": "LabelView",
            "style": "IPY_MODEL_cc2cf510fda74ff68ca5e525ca30e0c7",
            "_dom_classes": [],
            "description": "",
            "_model_name": "LabelModel",
            "placeholder": "​",
            "_view_module": "@jupyter-widgets/controls",
            "_model_module_version": "1.5.0",
            "value": "Prediction: grizzly; Probability: 0.9027",
            "_view_count": null,
            "_view_module_version": "1.5.0",
            "description_tooltip": null,
            "_model_module": "@jupyter-widgets/controls",
            "layout": "IPY_MODEL_eb37766940434784a5645709639b8ea2"
          }
        },
        "cc2cf510fda74ff68ca5e525ca30e0c7": {
          "model_module": "@jupyter-widgets/controls",
          "model_name": "DescriptionStyleModel",
          "state": {
            "_view_name": "StyleView",
            "_model_name": "DescriptionStyleModel",
            "description_width": "",
            "_view_module": "@jupyter-widgets/base",
            "_model_module_version": "1.5.0",
            "_view_count": null,
            "_view_module_version": "1.2.0",
            "_model_module": "@jupyter-widgets/controls"
          }
        },
        "eb37766940434784a5645709639b8ea2": {
          "model_module": "@jupyter-widgets/base",
          "model_name": "LayoutModel",
          "state": {
            "_view_name": "LayoutView",
            "grid_template_rows": null,
            "right": null,
            "justify_content": null,
            "_view_module": "@jupyter-widgets/base",
            "overflow": null,
            "_model_module_version": "1.2.0",
            "_view_count": null,
            "flex_flow": null,
            "width": null,
            "min_width": null,
            "border": null,
            "align_items": null,
            "bottom": null,
            "_model_module": "@jupyter-widgets/base",
            "top": null,
            "grid_column": null,
            "overflow_y": null,
            "overflow_x": null,
            "grid_auto_flow": null,
            "grid_area": null,
            "grid_template_columns": null,
            "flex": null,
            "_model_name": "LayoutModel",
            "justify_items": null,
            "grid_row": null,
            "max_height": null,
            "align_content": null,
            "visibility": null,
            "align_self": null,
            "height": null,
            "min_height": null,
            "padding": null,
            "grid_auto_rows": null,
            "grid_gap": null,
            "max_width": null,
            "order": null,
            "_view_module_version": "1.2.0",
            "grid_template_areas": null,
            "object_position": null,
            "object_fit": null,
            "grid_auto_columns": null,
            "margin": null,
            "display": null,
            "left": null
          }
        }
      }
    }
  },
  "cells": [
    {
      "cell_type": "markdown",
      "metadata": {
        "id": "view-in-github",
        "colab_type": "text"
      },
      "source": [
        "<a href=\"https://colab.research.google.com/github/abhinav-codanaut/DL-2020-fast-ai-/blob/main/L2_Bear_classifier.ipynb\" target=\"_parent\"><img src=\"https://colab.research.google.com/assets/colab-badge.svg\" alt=\"Open In Colab\"/></a>"
      ]
    },
    {
      "cell_type": "code",
      "metadata": {
        "id": "vcRRjfI368xC",
        "colab": {
          "base_uri": "https://localhost:8080/"
        },
        "outputId": "f1a2333e-71e4-4c18-ca34-30e26002eef2"
      },
      "source": [
        "pip install jmd_imagescraper"
      ],
      "execution_count": 1,
      "outputs": [
        {
          "output_type": "stream",
          "text": [
            "Collecting jmd_imagescraper\n",
            "  Downloading https://files.pythonhosted.org/packages/c6/80/b84f3cbce8a7f0491a16e8dc7d7b671539223c6ad686b21e4c26c353847f/jmd_imagescraper-1.0.2-py3-none-any.whl\n",
            "Requirement already satisfied: ipywidgets in /usr/local/lib/python3.7/dist-packages (from jmd_imagescraper) (7.6.3)\n",
            "Requirement already satisfied: pathlib in /usr/local/lib/python3.7/dist-packages (from jmd_imagescraper) (1.0.1)\n",
            "Requirement already satisfied: Pillow in /usr/local/lib/python3.7/dist-packages (from jmd_imagescraper) (7.1.2)\n",
            "Requirement already satisfied: requests in /usr/local/lib/python3.7/dist-packages (from jmd_imagescraper) (2.23.0)\n",
            "Requirement already satisfied: pandas in /usr/local/lib/python3.7/dist-packages (from jmd_imagescraper) (1.1.5)\n",
            "Requirement already satisfied: fastprogress in /usr/local/lib/python3.7/dist-packages (from jmd_imagescraper) (1.0.0)\n",
            "Requirement already satisfied: bs4 in /usr/local/lib/python3.7/dist-packages (from jmd_imagescraper) (0.0.1)\n",
            "Requirement already satisfied: nbformat>=4.2.0 in /usr/local/lib/python3.7/dist-packages (from ipywidgets->jmd_imagescraper) (5.1.3)\n",
            "Requirement already satisfied: ipython>=4.0.0; python_version >= \"3.3\" in /usr/local/lib/python3.7/dist-packages (from ipywidgets->jmd_imagescraper) (5.5.0)\n",
            "Requirement already satisfied: traitlets>=4.3.1 in /usr/local/lib/python3.7/dist-packages (from ipywidgets->jmd_imagescraper) (5.0.5)\n",
            "Requirement already satisfied: widgetsnbextension~=3.5.0 in /usr/local/lib/python3.7/dist-packages (from ipywidgets->jmd_imagescraper) (3.5.1)\n",
            "Requirement already satisfied: jupyterlab-widgets>=1.0.0; python_version >= \"3.6\" in /usr/local/lib/python3.7/dist-packages (from ipywidgets->jmd_imagescraper) (1.0.0)\n",
            "Requirement already satisfied: ipykernel>=4.5.1 in /usr/local/lib/python3.7/dist-packages (from ipywidgets->jmd_imagescraper) (4.10.1)\n",
            "Requirement already satisfied: chardet<4,>=3.0.2 in /usr/local/lib/python3.7/dist-packages (from requests->jmd_imagescraper) (3.0.4)\n",
            "Requirement already satisfied: idna<3,>=2.5 in /usr/local/lib/python3.7/dist-packages (from requests->jmd_imagescraper) (2.10)\n",
            "Requirement already satisfied: urllib3!=1.25.0,!=1.25.1,<1.26,>=1.21.1 in /usr/local/lib/python3.7/dist-packages (from requests->jmd_imagescraper) (1.24.3)\n",
            "Requirement already satisfied: certifi>=2017.4.17 in /usr/local/lib/python3.7/dist-packages (from requests->jmd_imagescraper) (2020.12.5)\n",
            "Requirement already satisfied: numpy>=1.15.4 in /usr/local/lib/python3.7/dist-packages (from pandas->jmd_imagescraper) (1.19.5)\n",
            "Requirement already satisfied: python-dateutil>=2.7.3 in /usr/local/lib/python3.7/dist-packages (from pandas->jmd_imagescraper) (2.8.1)\n",
            "Requirement already satisfied: pytz>=2017.2 in /usr/local/lib/python3.7/dist-packages (from pandas->jmd_imagescraper) (2018.9)\n",
            "Requirement already satisfied: beautifulsoup4 in /usr/local/lib/python3.7/dist-packages (from bs4->jmd_imagescraper) (4.6.3)\n",
            "Requirement already satisfied: ipython-genutils in /usr/local/lib/python3.7/dist-packages (from nbformat>=4.2.0->ipywidgets->jmd_imagescraper) (0.2.0)\n",
            "Requirement already satisfied: jsonschema!=2.5.0,>=2.4 in /usr/local/lib/python3.7/dist-packages (from nbformat>=4.2.0->ipywidgets->jmd_imagescraper) (2.6.0)\n",
            "Requirement already satisfied: jupyter-core in /usr/local/lib/python3.7/dist-packages (from nbformat>=4.2.0->ipywidgets->jmd_imagescraper) (4.7.1)\n",
            "Requirement already satisfied: prompt-toolkit<2.0.0,>=1.0.4 in /usr/local/lib/python3.7/dist-packages (from ipython>=4.0.0; python_version >= \"3.3\"->ipywidgets->jmd_imagescraper) (1.0.18)\n",
            "Requirement already satisfied: pickleshare in /usr/local/lib/python3.7/dist-packages (from ipython>=4.0.0; python_version >= \"3.3\"->ipywidgets->jmd_imagescraper) (0.7.5)\n",
            "Requirement already satisfied: decorator in /usr/local/lib/python3.7/dist-packages (from ipython>=4.0.0; python_version >= \"3.3\"->ipywidgets->jmd_imagescraper) (4.4.2)\n",
            "Requirement already satisfied: simplegeneric>0.8 in /usr/local/lib/python3.7/dist-packages (from ipython>=4.0.0; python_version >= \"3.3\"->ipywidgets->jmd_imagescraper) (0.8.1)\n",
            "Requirement already satisfied: pexpect; sys_platform != \"win32\" in /usr/local/lib/python3.7/dist-packages (from ipython>=4.0.0; python_version >= \"3.3\"->ipywidgets->jmd_imagescraper) (4.8.0)\n",
            "Requirement already satisfied: pygments in /usr/local/lib/python3.7/dist-packages (from ipython>=4.0.0; python_version >= \"3.3\"->ipywidgets->jmd_imagescraper) (2.6.1)\n",
            "Requirement already satisfied: setuptools>=18.5 in /usr/local/lib/python3.7/dist-packages (from ipython>=4.0.0; python_version >= \"3.3\"->ipywidgets->jmd_imagescraper) (57.0.0)\n",
            "Requirement already satisfied: notebook>=4.4.1 in /usr/local/lib/python3.7/dist-packages (from widgetsnbextension~=3.5.0->ipywidgets->jmd_imagescraper) (5.3.1)\n",
            "Requirement already satisfied: tornado>=4.0 in /usr/local/lib/python3.7/dist-packages (from ipykernel>=4.5.1->ipywidgets->jmd_imagescraper) (5.1.1)\n",
            "Requirement already satisfied: jupyter-client in /usr/local/lib/python3.7/dist-packages (from ipykernel>=4.5.1->ipywidgets->jmd_imagescraper) (5.3.5)\n",
            "Requirement already satisfied: six>=1.5 in /usr/local/lib/python3.7/dist-packages (from python-dateutil>=2.7.3->pandas->jmd_imagescraper) (1.15.0)\n",
            "Requirement already satisfied: wcwidth in /usr/local/lib/python3.7/dist-packages (from prompt-toolkit<2.0.0,>=1.0.4->ipython>=4.0.0; python_version >= \"3.3\"->ipywidgets->jmd_imagescraper) (0.2.5)\n",
            "Requirement already satisfied: ptyprocess>=0.5 in /usr/local/lib/python3.7/dist-packages (from pexpect; sys_platform != \"win32\"->ipython>=4.0.0; python_version >= \"3.3\"->ipywidgets->jmd_imagescraper) (0.7.0)\n",
            "Requirement already satisfied: nbconvert in /usr/local/lib/python3.7/dist-packages (from notebook>=4.4.1->widgetsnbextension~=3.5.0->ipywidgets->jmd_imagescraper) (5.6.1)\n",
            "Requirement already satisfied: jinja2 in /usr/local/lib/python3.7/dist-packages (from notebook>=4.4.1->widgetsnbextension~=3.5.0->ipywidgets->jmd_imagescraper) (2.11.3)\n",
            "Requirement already satisfied: Send2Trash in /usr/local/lib/python3.7/dist-packages (from notebook>=4.4.1->widgetsnbextension~=3.5.0->ipywidgets->jmd_imagescraper) (1.5.0)\n",
            "Requirement already satisfied: terminado>=0.8.1 in /usr/local/lib/python3.7/dist-packages (from notebook>=4.4.1->widgetsnbextension~=3.5.0->ipywidgets->jmd_imagescraper) (0.10.0)\n",
            "Requirement already satisfied: pyzmq>=13 in /usr/local/lib/python3.7/dist-packages (from jupyter-client->ipykernel>=4.5.1->ipywidgets->jmd_imagescraper) (22.0.3)\n",
            "Requirement already satisfied: bleach in /usr/local/lib/python3.7/dist-packages (from nbconvert->notebook>=4.4.1->widgetsnbextension~=3.5.0->ipywidgets->jmd_imagescraper) (3.3.0)\n",
            "Requirement already satisfied: mistune<2,>=0.8.1 in /usr/local/lib/python3.7/dist-packages (from nbconvert->notebook>=4.4.1->widgetsnbextension~=3.5.0->ipywidgets->jmd_imagescraper) (0.8.4)\n",
            "Requirement already satisfied: testpath in /usr/local/lib/python3.7/dist-packages (from nbconvert->notebook>=4.4.1->widgetsnbextension~=3.5.0->ipywidgets->jmd_imagescraper) (0.5.0)\n",
            "Requirement already satisfied: entrypoints>=0.2.2 in /usr/local/lib/python3.7/dist-packages (from nbconvert->notebook>=4.4.1->widgetsnbextension~=3.5.0->ipywidgets->jmd_imagescraper) (0.3)\n",
            "Requirement already satisfied: pandocfilters>=1.4.1 in /usr/local/lib/python3.7/dist-packages (from nbconvert->notebook>=4.4.1->widgetsnbextension~=3.5.0->ipywidgets->jmd_imagescraper) (1.4.3)\n",
            "Requirement already satisfied: defusedxml in /usr/local/lib/python3.7/dist-packages (from nbconvert->notebook>=4.4.1->widgetsnbextension~=3.5.0->ipywidgets->jmd_imagescraper) (0.7.1)\n",
            "Requirement already satisfied: MarkupSafe>=0.23 in /usr/local/lib/python3.7/dist-packages (from jinja2->notebook>=4.4.1->widgetsnbextension~=3.5.0->ipywidgets->jmd_imagescraper) (2.0.1)\n",
            "Requirement already satisfied: webencodings in /usr/local/lib/python3.7/dist-packages (from bleach->nbconvert->notebook>=4.4.1->widgetsnbextension~=3.5.0->ipywidgets->jmd_imagescraper) (0.5.1)\n",
            "Requirement already satisfied: packaging in /usr/local/lib/python3.7/dist-packages (from bleach->nbconvert->notebook>=4.4.1->widgetsnbextension~=3.5.0->ipywidgets->jmd_imagescraper) (20.9)\n",
            "Requirement already satisfied: pyparsing>=2.0.2 in /usr/local/lib/python3.7/dist-packages (from packaging->bleach->nbconvert->notebook>=4.4.1->widgetsnbextension~=3.5.0->ipywidgets->jmd_imagescraper) (2.4.7)\n",
            "Installing collected packages: jmd-imagescraper\n",
            "Successfully installed jmd-imagescraper-1.0.2\n"
          ],
          "name": "stdout"
        }
      ]
    },
    {
      "cell_type": "code",
      "metadata": {
        "id": "YtB3SENK9CME",
        "colab": {
          "base_uri": "https://localhost:8080/"
        },
        "outputId": "67b5fb92-b2b1-4e35-ff14-79b53028177a"
      },
      "source": [
        "!pip install -Uqq fastbook\n",
        "\n",
        "import fastbook  #import the fast.ai library\n",
        "from fastbook import *  #dont't worry, it's designed to work with import *\n",
        "fastbook.setup_book()\n",
        "from fastai.vision.widgets import *\n",
        "\n",
        "#import the image scraper by @JoeDockrill, website: https://joedockrill.github.io/blog/2020/09/18/jmd-imagescraper-library/\n",
        "from jmd_imagescraper.core import * \n",
        "from pathlib import Path\n",
        "from jmd_imagescraper.imagecleaner import *"
      ],
      "execution_count": 2,
      "outputs": [
        {
          "output_type": "stream",
          "text": [
            "\u001b[?25l\r\u001b[K     |▌                               | 10kB 25.6MB/s eta 0:00:01\r\u001b[K     |█                               | 20kB 18.8MB/s eta 0:00:01\r\u001b[K     |█▍                              | 30kB 16.0MB/s eta 0:00:01\r\u001b[K     |█▉                              | 40kB 14.6MB/s eta 0:00:01\r\u001b[K     |██▎                             | 51kB 7.0MB/s eta 0:00:01\r\u001b[K     |██▊                             | 61kB 8.2MB/s eta 0:00:01\r\u001b[K     |███▏                            | 71kB 8.6MB/s eta 0:00:01\r\u001b[K     |███▋                            | 81kB 8.9MB/s eta 0:00:01\r\u001b[K     |████                            | 92kB 9.4MB/s eta 0:00:01\r\u001b[K     |████▌                           | 102kB 7.6MB/s eta 0:00:01\r\u001b[K     |█████                           | 112kB 7.6MB/s eta 0:00:01\r\u001b[K     |█████▌                          | 122kB 7.6MB/s eta 0:00:01\r\u001b[K     |██████                          | 133kB 7.6MB/s eta 0:00:01\r\u001b[K     |██████▍                         | 143kB 7.6MB/s eta 0:00:01\r\u001b[K     |██████▉                         | 153kB 7.6MB/s eta 0:00:01\r\u001b[K     |███████▎                        | 163kB 7.6MB/s eta 0:00:01\r\u001b[K     |███████▊                        | 174kB 7.6MB/s eta 0:00:01\r\u001b[K     |████████▏                       | 184kB 7.6MB/s eta 0:00:01\r\u001b[K     |████████▋                       | 194kB 7.6MB/s eta 0:00:01\r\u001b[K     |█████████                       | 204kB 7.6MB/s eta 0:00:01\r\u001b[K     |█████████▋                      | 215kB 7.6MB/s eta 0:00:01\r\u001b[K     |██████████                      | 225kB 7.6MB/s eta 0:00:01\r\u001b[K     |██████████▌                     | 235kB 7.6MB/s eta 0:00:01\r\u001b[K     |███████████                     | 245kB 7.6MB/s eta 0:00:01\r\u001b[K     |███████████▍                    | 256kB 7.6MB/s eta 0:00:01\r\u001b[K     |███████████▉                    | 266kB 7.6MB/s eta 0:00:01\r\u001b[K     |████████████▎                   | 276kB 7.6MB/s eta 0:00:01\r\u001b[K     |████████████▊                   | 286kB 7.6MB/s eta 0:00:01\r\u001b[K     |█████████████▏                  | 296kB 7.6MB/s eta 0:00:01\r\u001b[K     |█████████████▋                  | 307kB 7.6MB/s eta 0:00:01\r\u001b[K     |██████████████                  | 317kB 7.6MB/s eta 0:00:01\r\u001b[K     |██████████████▋                 | 327kB 7.6MB/s eta 0:00:01\r\u001b[K     |███████████████                 | 337kB 7.6MB/s eta 0:00:01\r\u001b[K     |███████████████▌                | 348kB 7.6MB/s eta 0:00:01\r\u001b[K     |████████████████                | 358kB 7.6MB/s eta 0:00:01\r\u001b[K     |████████████████▍               | 368kB 7.6MB/s eta 0:00:01\r\u001b[K     |████████████████▉               | 378kB 7.6MB/s eta 0:00:01\r\u001b[K     |█████████████████▎              | 389kB 7.6MB/s eta 0:00:01\r\u001b[K     |█████████████████▊              | 399kB 7.6MB/s eta 0:00:01\r\u001b[K     |██████████████████▏             | 409kB 7.6MB/s eta 0:00:01\r\u001b[K     |██████████████████▋             | 419kB 7.6MB/s eta 0:00:01\r\u001b[K     |███████████████████▏            | 430kB 7.6MB/s eta 0:00:01\r\u001b[K     |███████████████████▋            | 440kB 7.6MB/s eta 0:00:01\r\u001b[K     |████████████████████            | 450kB 7.6MB/s eta 0:00:01\r\u001b[K     |████████████████████▌           | 460kB 7.6MB/s eta 0:00:01\r\u001b[K     |█████████████████████           | 471kB 7.6MB/s eta 0:00:01\r\u001b[K     |█████████████████████▍          | 481kB 7.6MB/s eta 0:00:01\r\u001b[K     |█████████████████████▉          | 491kB 7.6MB/s eta 0:00:01\r\u001b[K     |██████████████████████▎         | 501kB 7.6MB/s eta 0:00:01\r\u001b[K     |██████████████████████▊         | 512kB 7.6MB/s eta 0:00:01\r\u001b[K     |███████████████████████▏        | 522kB 7.6MB/s eta 0:00:01\r\u001b[K     |███████████████████████▋        | 532kB 7.6MB/s eta 0:00:01\r\u001b[K     |████████████████████████▏       | 542kB 7.6MB/s eta 0:00:01\r\u001b[K     |████████████████████████▋       | 552kB 7.6MB/s eta 0:00:01\r\u001b[K     |█████████████████████████       | 563kB 7.6MB/s eta 0:00:01\r\u001b[K     |█████████████████████████▌      | 573kB 7.6MB/s eta 0:00:01\r\u001b[K     |██████████████████████████      | 583kB 7.6MB/s eta 0:00:01\r\u001b[K     |██████████████████████████▍     | 593kB 7.6MB/s eta 0:00:01\r\u001b[K     |██████████████████████████▉     | 604kB 7.6MB/s eta 0:00:01\r\u001b[K     |███████████████████████████▎    | 614kB 7.6MB/s eta 0:00:01\r\u001b[K     |███████████████████████████▊    | 624kB 7.6MB/s eta 0:00:01\r\u001b[K     |████████████████████████████▏   | 634kB 7.6MB/s eta 0:00:01\r\u001b[K     |████████████████████████████▊   | 645kB 7.6MB/s eta 0:00:01\r\u001b[K     |█████████████████████████████▏  | 655kB 7.6MB/s eta 0:00:01\r\u001b[K     |█████████████████████████████▋  | 665kB 7.6MB/s eta 0:00:01\r\u001b[K     |██████████████████████████████  | 675kB 7.6MB/s eta 0:00:01\r\u001b[K     |██████████████████████████████▌ | 686kB 7.6MB/s eta 0:00:01\r\u001b[K     |███████████████████████████████ | 696kB 7.6MB/s eta 0:00:01\r\u001b[K     |███████████████████████████████▍| 706kB 7.6MB/s eta 0:00:01\r\u001b[K     |███████████████████████████████▉| 716kB 7.6MB/s eta 0:00:01\r\u001b[K     |████████████████████████████████| 727kB 7.6MB/s \n",
            "\u001b[K     |████████████████████████████████| 204kB 53.2MB/s \n",
            "\u001b[K     |████████████████████████████████| 1.2MB 50.2MB/s \n",
            "\u001b[K     |████████████████████████████████| 51kB 8.3MB/s \n",
            "\u001b[K     |████████████████████████████████| 61kB 10.3MB/s \n",
            "\u001b[K     |████████████████████████████████| 61kB 8.4MB/s \n",
            "\u001b[?25hMounted at /content/gdrive\n"
          ],
          "name": "stdout"
        }
      ]
    },
    {
      "cell_type": "code",
      "metadata": {
        "id": "SD-hfujsAZcC"
      },
      "source": [
        "path = Path().cwd()/\"bear\""
      ],
      "execution_count": 3,
      "outputs": []
    },
    {
      "cell_type": "code",
      "metadata": {
        "id": "EOtptDycAm6a",
        "colab": {
          "base_uri": "https://localhost:8080/",
          "height": 1000
        },
        "outputId": "d337ef40-8342-4ee0-901f-bc81595c0231"
      },
      "source": [
        "duckduckgo_search(path,\"grizzly\",\"grizzly bear\",max_results=100)"
      ],
      "execution_count": 4,
      "outputs": [
        {
          "output_type": "stream",
          "text": [
            "Duckduckgo search: grizzly bear\n",
            "Downloading results into /content/bear/grizzly\n"
          ],
          "name": "stdout"
        },
        {
          "output_type": "display_data",
          "data": {
            "text/html": [
              "\n",
              "    <div>\n",
              "        <style>\n",
              "            /* Turns off some styling */\n",
              "            progress {\n",
              "                /* gets rid of default border in Firefox and Opera. */\n",
              "                border: none;\n",
              "                /* Needs to be in here for Safari polyfill so background images work as expected. */\n",
              "                background-size: auto;\n",
              "            }\n",
              "            .progress-bar-interrupted, .progress-bar-interrupted::-webkit-progress-bar {\n",
              "                background: #F44336;\n",
              "            }\n",
              "        </style>\n",
              "      <progress value='100' class='' max='100' style='width:300px; height:20px; vertical-align: middle;'></progress>\n",
              "      100.00% [100/100 00:08<00:00 Images downloaded]\n",
              "    </div>\n",
              "    "
            ],
            "text/plain": [
              "<IPython.core.display.HTML object>"
            ]
          },
          "metadata": {
            "tags": []
          }
        },
        {
          "output_type": "execute_result",
          "data": {
            "text/plain": [
              "[Path('/content/bear/grizzly/001_f1cbdd09.jpg'),\n",
              " Path('/content/bear/grizzly/002_15c62bd3.jpg'),\n",
              " Path('/content/bear/grizzly/003_0ba09e0d.jpg'),\n",
              " Path('/content/bear/grizzly/004_db788d5c.jpg'),\n",
              " Path('/content/bear/grizzly/005_d035c148.jpg'),\n",
              " Path('/content/bear/grizzly/006_b8e950a0.jpg'),\n",
              " Path('/content/bear/grizzly/007_5caa9dfb.jpg'),\n",
              " Path('/content/bear/grizzly/008_66d1828c.jpg'),\n",
              " Path('/content/bear/grizzly/009_9d055903.jpg'),\n",
              " Path('/content/bear/grizzly/010_72df449e.jpg'),\n",
              " Path('/content/bear/grizzly/011_693c5d0f.jpg'),\n",
              " Path('/content/bear/grizzly/012_6c274bcd.jpg'),\n",
              " Path('/content/bear/grizzly/013_81a3db1c.jpg'),\n",
              " Path('/content/bear/grizzly/014_10f6a7be.jpg'),\n",
              " Path('/content/bear/grizzly/015_d51a43ed.jpg'),\n",
              " Path('/content/bear/grizzly/016_edbfcf61.jpg'),\n",
              " Path('/content/bear/grizzly/017_c90618c7.jpg'),\n",
              " Path('/content/bear/grizzly/018_27ed9fbd.jpg'),\n",
              " Path('/content/bear/grizzly/019_4793d1b5.jpg'),\n",
              " Path('/content/bear/grizzly/020_59798fa9.jpg'),\n",
              " Path('/content/bear/grizzly/021_ec6802a1.jpg'),\n",
              " Path('/content/bear/grizzly/022_2d0e5169.jpg'),\n",
              " Path('/content/bear/grizzly/023_c78bf3c1.jpg'),\n",
              " Path('/content/bear/grizzly/024_91fb3ef2.jpg'),\n",
              " Path('/content/bear/grizzly/025_f0b410d0.jpg'),\n",
              " Path('/content/bear/grizzly/026_47b06557.jpg'),\n",
              " Path('/content/bear/grizzly/027_2fa6545f.jpg'),\n",
              " Path('/content/bear/grizzly/028_2421d961.jpg'),\n",
              " Path('/content/bear/grizzly/029_2e78d5a4.jpg'),\n",
              " Path('/content/bear/grizzly/030_db7d6104.jpg'),\n",
              " Path('/content/bear/grizzly/031_1d3338f2.jpg'),\n",
              " Path('/content/bear/grizzly/032_be3d75b1.jpg'),\n",
              " Path('/content/bear/grizzly/033_2b0ae65a.jpg'),\n",
              " Path('/content/bear/grizzly/034_3cb61d2c.jpg'),\n",
              " Path('/content/bear/grizzly/035_1f8c3c9d.jpg'),\n",
              " Path('/content/bear/grizzly/036_dbadceb5.jpg'),\n",
              " Path('/content/bear/grizzly/037_c0151258.jpg'),\n",
              " Path('/content/bear/grizzly/038_9430a97e.jpg'),\n",
              " Path('/content/bear/grizzly/039_c93a6283.jpg'),\n",
              " Path('/content/bear/grizzly/040_c2f861bf.jpg'),\n",
              " Path('/content/bear/grizzly/041_13780fcb.jpg'),\n",
              " Path('/content/bear/grizzly/042_d2a43262.jpg'),\n",
              " Path('/content/bear/grizzly/043_c41e7c2f.jpg'),\n",
              " Path('/content/bear/grizzly/044_e2a3f9ed.jpg'),\n",
              " Path('/content/bear/grizzly/045_5d162680.jpg'),\n",
              " Path('/content/bear/grizzly/046_bcf7209c.jpg'),\n",
              " Path('/content/bear/grizzly/047_ea1f7b4c.jpg'),\n",
              " Path('/content/bear/grizzly/048_1bad3b87.jpg'),\n",
              " Path('/content/bear/grizzly/049_782964e1.jpg'),\n",
              " Path('/content/bear/grizzly/050_30dc2635.jpg'),\n",
              " Path('/content/bear/grizzly/051_e8128aab.jpg'),\n",
              " Path('/content/bear/grizzly/052_ca699aa8.jpg'),\n",
              " Path('/content/bear/grizzly/053_7e0f64e0.jpg'),\n",
              " Path('/content/bear/grizzly/054_acadac32.jpg'),\n",
              " Path('/content/bear/grizzly/055_d4599e96.jpg'),\n",
              " Path('/content/bear/grizzly/056_feddf96d.jpg'),\n",
              " Path('/content/bear/grizzly/057_dccd6527.jpg'),\n",
              " Path('/content/bear/grizzly/058_fc22868b.jpg'),\n",
              " Path('/content/bear/grizzly/059_bf3d4015.jpg'),\n",
              " Path('/content/bear/grizzly/060_a8427191.jpg'),\n",
              " Path('/content/bear/grizzly/061_fbafcf0a.jpg'),\n",
              " Path('/content/bear/grizzly/062_0f05e270.jpg'),\n",
              " Path('/content/bear/grizzly/063_15b185cd.jpg'),\n",
              " Path('/content/bear/grizzly/064_703ff481.jpg'),\n",
              " Path('/content/bear/grizzly/065_1c3bc1b3.jpg'),\n",
              " Path('/content/bear/grizzly/066_ff3053cf.jpg'),\n",
              " Path('/content/bear/grizzly/067_8d192fa7.jpg'),\n",
              " Path('/content/bear/grizzly/068_31d33fd7.jpg'),\n",
              " Path('/content/bear/grizzly/069_efcb4c89.jpg'),\n",
              " Path('/content/bear/grizzly/070_226b39c8.jpg'),\n",
              " Path('/content/bear/grizzly/071_cfab1fe6.jpg'),\n",
              " Path('/content/bear/grizzly/072_9807f29e.jpg'),\n",
              " Path('/content/bear/grizzly/073_7de455a1.jpg'),\n",
              " Path('/content/bear/grizzly/074_4966a34b.jpg'),\n",
              " Path('/content/bear/grizzly/075_3f78102e.jpg'),\n",
              " Path('/content/bear/grizzly/076_b7bbd19a.jpg'),\n",
              " Path('/content/bear/grizzly/077_90313674.jpg'),\n",
              " Path('/content/bear/grizzly/078_e1a74be3.jpg'),\n",
              " Path('/content/bear/grizzly/079_d5ab7d6d.jpg'),\n",
              " Path('/content/bear/grizzly/080_08827541.jpg'),\n",
              " Path('/content/bear/grizzly/081_843a3ae8.jpg'),\n",
              " Path('/content/bear/grizzly/082_1739946f.jpg'),\n",
              " Path('/content/bear/grizzly/083_94a03db6.jpg'),\n",
              " Path('/content/bear/grizzly/084_c20c0a9d.jpg'),\n",
              " Path('/content/bear/grizzly/085_16e5983e.jpg'),\n",
              " Path('/content/bear/grizzly/086_8a398119.jpg'),\n",
              " Path('/content/bear/grizzly/087_8ae29516.jpg'),\n",
              " Path('/content/bear/grizzly/088_e64fbaa4.jpg'),\n",
              " Path('/content/bear/grizzly/089_d6c388ed.jpg'),\n",
              " Path('/content/bear/grizzly/090_73865c02.jpg'),\n",
              " Path('/content/bear/grizzly/091_d92b5f63.jpg'),\n",
              " Path('/content/bear/grizzly/092_b5beddfc.jpg'),\n",
              " Path('/content/bear/grizzly/093_f1bc5ec8.jpg'),\n",
              " Path('/content/bear/grizzly/094_408c67ec.jpg'),\n",
              " Path('/content/bear/grizzly/095_d6a53379.jpg'),\n",
              " Path('/content/bear/grizzly/096_753e308e.jpg'),\n",
              " Path('/content/bear/grizzly/097_848d9607.jpg'),\n",
              " Path('/content/bear/grizzly/098_6422432a.jpg'),\n",
              " Path('/content/bear/grizzly/099_46b76b38.jpg'),\n",
              " Path('/content/bear/grizzly/100_c1a70cba.jpg')]"
            ]
          },
          "metadata": {
            "tags": []
          },
          "execution_count": 4
        }
      ]
    },
    {
      "cell_type": "code",
      "metadata": {
        "colab": {
          "base_uri": "https://localhost:8080/",
          "height": 1000
        },
        "id": "fd04ILh6SV5n",
        "outputId": "d299d501-cfc1-4841-c185-0ed4fcbec177"
      },
      "source": [
        "duckduckgo_search(path,\"black\",\"black bear\",max_results=100)"
      ],
      "execution_count": 5,
      "outputs": [
        {
          "output_type": "stream",
          "text": [
            "Duckduckgo search: black bear\n",
            "Downloading results into /content/bear/black\n"
          ],
          "name": "stdout"
        },
        {
          "output_type": "display_data",
          "data": {
            "text/html": [
              "\n",
              "    <div>\n",
              "        <style>\n",
              "            /* Turns off some styling */\n",
              "            progress {\n",
              "                /* gets rid of default border in Firefox and Opera. */\n",
              "                border: none;\n",
              "                /* Needs to be in here for Safari polyfill so background images work as expected. */\n",
              "                background-size: auto;\n",
              "            }\n",
              "            .progress-bar-interrupted, .progress-bar-interrupted::-webkit-progress-bar {\n",
              "                background: #F44336;\n",
              "            }\n",
              "        </style>\n",
              "      <progress value='100' class='' max='100' style='width:300px; height:20px; vertical-align: middle;'></progress>\n",
              "      100.00% [100/100 00:07<00:00 Images downloaded]\n",
              "    </div>\n",
              "    "
            ],
            "text/plain": [
              "<IPython.core.display.HTML object>"
            ]
          },
          "metadata": {
            "tags": []
          }
        },
        {
          "output_type": "execute_result",
          "data": {
            "text/plain": [
              "[Path('/content/bear/black/001_194b137f.jpg'),\n",
              " Path('/content/bear/black/002_92e034a4.jpg'),\n",
              " Path('/content/bear/black/003_02a34fd9.jpg'),\n",
              " Path('/content/bear/black/004_b9503331.jpg'),\n",
              " Path('/content/bear/black/005_b82643e8.jpg'),\n",
              " Path('/content/bear/black/006_907c072d.jpg'),\n",
              " Path('/content/bear/black/007_3a9209c8.jpg'),\n",
              " Path('/content/bear/black/008_ca56bad5.jpg'),\n",
              " Path('/content/bear/black/009_2ef05d72.jpg'),\n",
              " Path('/content/bear/black/010_b4b841af.jpg'),\n",
              " Path('/content/bear/black/011_35898537.jpg'),\n",
              " Path('/content/bear/black/012_76338783.jpg'),\n",
              " Path('/content/bear/black/013_0e7947c2.jpg'),\n",
              " Path('/content/bear/black/014_269b7818.jpg'),\n",
              " Path('/content/bear/black/015_3f7f96ce.jpg'),\n",
              " Path('/content/bear/black/016_f734be3f.jpg'),\n",
              " Path('/content/bear/black/017_9e14a6fe.jpg'),\n",
              " Path('/content/bear/black/018_6c3146df.jpg'),\n",
              " Path('/content/bear/black/019_aa1fffdc.jpg'),\n",
              " Path('/content/bear/black/020_60bb059f.jpg'),\n",
              " Path('/content/bear/black/021_c0a6cdfc.jpg'),\n",
              " Path('/content/bear/black/022_79b4a571.jpg'),\n",
              " Path('/content/bear/black/023_a61bd825.jpg'),\n",
              " Path('/content/bear/black/024_f527b16e.jpg'),\n",
              " Path('/content/bear/black/025_e721c714.jpg'),\n",
              " Path('/content/bear/black/026_e2cd3ea1.jpg'),\n",
              " Path('/content/bear/black/027_027ed21e.jpg'),\n",
              " Path('/content/bear/black/028_f1ee03c3.jpg'),\n",
              " Path('/content/bear/black/029_7cae98e8.jpg'),\n",
              " Path('/content/bear/black/030_3824d15a.jpg'),\n",
              " Path('/content/bear/black/031_b2e4637e.jpg'),\n",
              " Path('/content/bear/black/032_752ffd83.jpg'),\n",
              " Path('/content/bear/black/033_13eedb1e.jpg'),\n",
              " Path('/content/bear/black/034_55237f38.jpg'),\n",
              " Path('/content/bear/black/035_7c043dee.jpg'),\n",
              " Path('/content/bear/black/036_a53abbc0.jpg'),\n",
              " Path('/content/bear/black/037_a571aed2.jpg'),\n",
              " Path('/content/bear/black/038_83aefe79.jpg'),\n",
              " Path('/content/bear/black/039_8f2a8fef.jpg'),\n",
              " Path('/content/bear/black/040_a85609e5.jpg'),\n",
              " Path('/content/bear/black/041_8981bd91.jpg'),\n",
              " Path('/content/bear/black/042_23ee0a28.jpg'),\n",
              " Path('/content/bear/black/043_3b45841c.jpg'),\n",
              " Path('/content/bear/black/044_6419f75e.jpg'),\n",
              " Path('/content/bear/black/045_69a7a940.jpg'),\n",
              " Path('/content/bear/black/046_a47770bd.jpg'),\n",
              " Path('/content/bear/black/047_9b48abfc.jpg'),\n",
              " Path('/content/bear/black/048_facda95b.jpg'),\n",
              " Path('/content/bear/black/049_df5d13d2.jpg'),\n",
              " Path('/content/bear/black/050_b63b9f89.jpg'),\n",
              " Path('/content/bear/black/051_910ab06f.jpg'),\n",
              " Path('/content/bear/black/052_68e0d7b8.jpg'),\n",
              " Path('/content/bear/black/053_7237e202.jpg'),\n",
              " Path('/content/bear/black/054_449294e2.jpg'),\n",
              " Path('/content/bear/black/055_a13ef8a2.jpg'),\n",
              " Path('/content/bear/black/056_1ad80111.jpg'),\n",
              " Path('/content/bear/black/057_2de3a391.jpg'),\n",
              " Path('/content/bear/black/058_17782362.jpg'),\n",
              " Path('/content/bear/black/059_6f22646b.jpg'),\n",
              " Path('/content/bear/black/060_4db91f9c.jpg'),\n",
              " Path('/content/bear/black/061_257267b2.jpg'),\n",
              " Path('/content/bear/black/062_67594203.jpg'),\n",
              " Path('/content/bear/black/063_08a3ea57.jpg'),\n",
              " Path('/content/bear/black/064_bf949c05.jpg'),\n",
              " Path('/content/bear/black/065_a26227c4.jpg'),\n",
              " Path('/content/bear/black/066_7ec92561.jpg'),\n",
              " Path('/content/bear/black/067_48f07fea.jpg'),\n",
              " Path('/content/bear/black/068_0ad246ef.jpg'),\n",
              " Path('/content/bear/black/069_c3fc86ea.jpg'),\n",
              " Path('/content/bear/black/070_5dc7ccb7.jpg'),\n",
              " Path('/content/bear/black/071_ca9207d8.jpg'),\n",
              " Path('/content/bear/black/072_12c01c53.jpg'),\n",
              " Path('/content/bear/black/073_65764878.jpg'),\n",
              " Path('/content/bear/black/074_dd3f569a.jpg'),\n",
              " Path('/content/bear/black/075_a1049294.jpg'),\n",
              " Path('/content/bear/black/076_1514226a.jpg'),\n",
              " Path('/content/bear/black/077_3385c87a.jpg'),\n",
              " Path('/content/bear/black/078_75fd667f.jpg'),\n",
              " Path('/content/bear/black/079_316bcccf.jpg'),\n",
              " Path('/content/bear/black/080_68d90ca3.jpg'),\n",
              " Path('/content/bear/black/081_ce1af7e6.jpg'),\n",
              " Path('/content/bear/black/082_659e023b.jpg'),\n",
              " Path('/content/bear/black/083_a34d7fc2.jpg'),\n",
              " Path('/content/bear/black/084_924d2f6c.jpg'),\n",
              " Path('/content/bear/black/085_6eb65df9.jpg'),\n",
              " Path('/content/bear/black/086_31c91541.jpg'),\n",
              " Path('/content/bear/black/087_74897b18.jpg'),\n",
              " Path('/content/bear/black/088_c1974ec3.jpg'),\n",
              " Path('/content/bear/black/089_1dd6f066.jpg'),\n",
              " Path('/content/bear/black/090_db519f26.jpg'),\n",
              " Path('/content/bear/black/091_65cb076b.jpg'),\n",
              " Path('/content/bear/black/092_3997ebca.jpg'),\n",
              " Path('/content/bear/black/093_d3c3de8b.jpg'),\n",
              " Path('/content/bear/black/094_d12a3d4b.jpg'),\n",
              " Path('/content/bear/black/095_e6f5f7bc.jpg'),\n",
              " Path('/content/bear/black/096_cf456632.jpg'),\n",
              " Path('/content/bear/black/097_b0a52027.jpg'),\n",
              " Path('/content/bear/black/098_e8669470.jpg'),\n",
              " Path('/content/bear/black/099_99af531f.jpg'),\n",
              " Path('/content/bear/black/100_20b7497a.jpg')]"
            ]
          },
          "metadata": {
            "tags": []
          },
          "execution_count": 5
        }
      ]
    },
    {
      "cell_type": "code",
      "metadata": {
        "colab": {
          "base_uri": "https://localhost:8080/",
          "height": 1000
        },
        "id": "cBhJ5NmtSVqT",
        "outputId": "26c33c2a-e54d-453f-9e0a-501ee4809d29"
      },
      "source": [
        "duckduckgo_search(path,\"teddy\",\"teddy bear\",max_results=100)"
      ],
      "execution_count": 6,
      "outputs": [
        {
          "output_type": "stream",
          "text": [
            "Duckduckgo search: teddy bear\n",
            "Downloading results into /content/bear/teddy\n"
          ],
          "name": "stdout"
        },
        {
          "output_type": "display_data",
          "data": {
            "text/html": [
              "\n",
              "    <div>\n",
              "        <style>\n",
              "            /* Turns off some styling */\n",
              "            progress {\n",
              "                /* gets rid of default border in Firefox and Opera. */\n",
              "                border: none;\n",
              "                /* Needs to be in here for Safari polyfill so background images work as expected. */\n",
              "                background-size: auto;\n",
              "            }\n",
              "            .progress-bar-interrupted, .progress-bar-interrupted::-webkit-progress-bar {\n",
              "                background: #F44336;\n",
              "            }\n",
              "        </style>\n",
              "      <progress value='100' class='' max='100' style='width:300px; height:20px; vertical-align: middle;'></progress>\n",
              "      100.00% [100/100 00:07<00:00 Images downloaded]\n",
              "    </div>\n",
              "    "
            ],
            "text/plain": [
              "<IPython.core.display.HTML object>"
            ]
          },
          "metadata": {
            "tags": []
          }
        },
        {
          "output_type": "execute_result",
          "data": {
            "text/plain": [
              "[Path('/content/bear/teddy/001_088b48f6.jpg'),\n",
              " Path('/content/bear/teddy/002_a159edb0.jpg'),\n",
              " Path('/content/bear/teddy/003_033f3733.jpg'),\n",
              " Path('/content/bear/teddy/004_734af147.jpg'),\n",
              " Path('/content/bear/teddy/005_decae732.jpg'),\n",
              " Path('/content/bear/teddy/006_cd05cc34.jpg'),\n",
              " Path('/content/bear/teddy/007_da517704.jpg'),\n",
              " Path('/content/bear/teddy/008_5b84777a.jpg'),\n",
              " Path('/content/bear/teddy/009_41feb19a.jpg'),\n",
              " Path('/content/bear/teddy/010_397e5547.jpg'),\n",
              " Path('/content/bear/teddy/011_0c1b7747.jpg'),\n",
              " Path('/content/bear/teddy/012_6185e17a.jpg'),\n",
              " Path('/content/bear/teddy/013_dbae5c30.jpg'),\n",
              " Path('/content/bear/teddy/014_2d92d9ea.jpg'),\n",
              " Path('/content/bear/teddy/015_9dc4d010.jpg'),\n",
              " Path('/content/bear/teddy/016_99b9c39d.jpg'),\n",
              " Path('/content/bear/teddy/017_c27a2115.jpg'),\n",
              " Path('/content/bear/teddy/018_2d39346a.jpg'),\n",
              " Path('/content/bear/teddy/019_8e260991.jpg'),\n",
              " Path('/content/bear/teddy/020_648c6519.jpg'),\n",
              " Path('/content/bear/teddy/021_7d80e681.jpg'),\n",
              " Path('/content/bear/teddy/022_4611d6c3.jpg'),\n",
              " Path('/content/bear/teddy/023_017b0849.jpg'),\n",
              " Path('/content/bear/teddy/024_875cdaa5.jpg'),\n",
              " Path('/content/bear/teddy/025_fd4b87e1.jpg'),\n",
              " Path('/content/bear/teddy/026_233c5515.jpg'),\n",
              " Path('/content/bear/teddy/027_8585f55e.jpg'),\n",
              " Path('/content/bear/teddy/028_d0480bde.jpg'),\n",
              " Path('/content/bear/teddy/029_4aecd108.jpg'),\n",
              " Path('/content/bear/teddy/030_fbf860da.jpg'),\n",
              " Path('/content/bear/teddy/031_7cfbb888.jpg'),\n",
              " Path('/content/bear/teddy/032_41efd565.jpg'),\n",
              " Path('/content/bear/teddy/033_31b8aa52.jpg'),\n",
              " Path('/content/bear/teddy/034_1bf52c61.jpg'),\n",
              " Path('/content/bear/teddy/035_d29d6865.jpg'),\n",
              " Path('/content/bear/teddy/036_c0e0b29d.jpg'),\n",
              " Path('/content/bear/teddy/037_152a2e49.jpg'),\n",
              " Path('/content/bear/teddy/038_73d22271.jpg'),\n",
              " Path('/content/bear/teddy/039_10fca897.jpg'),\n",
              " Path('/content/bear/teddy/040_c593d026.jpg'),\n",
              " Path('/content/bear/teddy/041_3d44c332.jpg'),\n",
              " Path('/content/bear/teddy/042_2e5564f8.jpg'),\n",
              " Path('/content/bear/teddy/043_2f45a7df.jpg'),\n",
              " Path('/content/bear/teddy/044_68fac66d.jpg'),\n",
              " Path('/content/bear/teddy/045_2010d95c.jpg'),\n",
              " Path('/content/bear/teddy/046_ba939146.jpg'),\n",
              " Path('/content/bear/teddy/047_4291e08b.jpg'),\n",
              " Path('/content/bear/teddy/048_f8d30e87.jpg'),\n",
              " Path('/content/bear/teddy/049_fb093e93.jpg'),\n",
              " Path('/content/bear/teddy/050_48df188c.jpg'),\n",
              " Path('/content/bear/teddy/051_15417a85.jpg'),\n",
              " Path('/content/bear/teddy/052_c2bf2d47.jpg'),\n",
              " Path('/content/bear/teddy/053_a54a1041.jpg'),\n",
              " Path('/content/bear/teddy/054_311bc7b3.jpg'),\n",
              " Path('/content/bear/teddy/055_fb7f21ff.jpg'),\n",
              " Path('/content/bear/teddy/056_a41e7082.jpg'),\n",
              " Path('/content/bear/teddy/057_6dd34556.jpg'),\n",
              " Path('/content/bear/teddy/058_2265fb60.jpg'),\n",
              " Path('/content/bear/teddy/059_fdf1e02a.jpg'),\n",
              " Path('/content/bear/teddy/060_3c456bed.jpg'),\n",
              " Path('/content/bear/teddy/061_9f2b9764.jpg'),\n",
              " Path('/content/bear/teddy/062_47ef6cc8.jpg'),\n",
              " Path('/content/bear/teddy/063_1c892a81.jpg'),\n",
              " Path('/content/bear/teddy/064_09496bc6.jpg'),\n",
              " Path('/content/bear/teddy/065_875c1565.jpg'),\n",
              " Path('/content/bear/teddy/066_88f580ab.jpg'),\n",
              " Path('/content/bear/teddy/067_44e8f63f.jpg'),\n",
              " Path('/content/bear/teddy/068_5eb41614.jpg'),\n",
              " Path('/content/bear/teddy/069_4ff5c29d.jpg'),\n",
              " Path('/content/bear/teddy/070_23b6d1f4.jpg'),\n",
              " Path('/content/bear/teddy/071_eca15e22.jpg'),\n",
              " Path('/content/bear/teddy/072_636a43a7.jpg'),\n",
              " Path('/content/bear/teddy/073_1e866f66.jpg'),\n",
              " Path('/content/bear/teddy/074_2cf96cc5.jpg'),\n",
              " Path('/content/bear/teddy/075_6f46d4c2.jpg'),\n",
              " Path('/content/bear/teddy/076_885ffad3.jpg'),\n",
              " Path('/content/bear/teddy/077_8edc6f99.jpg'),\n",
              " Path('/content/bear/teddy/078_8d50a169.jpg'),\n",
              " Path('/content/bear/teddy/079_a4b10fdd.jpg'),\n",
              " Path('/content/bear/teddy/080_f70cfe2e.jpg'),\n",
              " Path('/content/bear/teddy/081_25d09d75.jpg'),\n",
              " Path('/content/bear/teddy/082_c242aaad.jpg'),\n",
              " Path('/content/bear/teddy/083_ba3b76d8.jpg'),\n",
              " Path('/content/bear/teddy/084_c5f45030.jpg'),\n",
              " Path('/content/bear/teddy/085_6ebddb7f.jpg'),\n",
              " Path('/content/bear/teddy/086_a4eac0c7.jpg'),\n",
              " Path('/content/bear/teddy/087_bdda89f7.jpg'),\n",
              " Path('/content/bear/teddy/088_b0d80dc1.jpg'),\n",
              " Path('/content/bear/teddy/089_b55b2730.jpg'),\n",
              " Path('/content/bear/teddy/090_34b6de2d.jpg'),\n",
              " Path('/content/bear/teddy/091_e6cc4791.jpg'),\n",
              " Path('/content/bear/teddy/092_a083f6ac.jpg'),\n",
              " Path('/content/bear/teddy/093_059c35ce.jpg'),\n",
              " Path('/content/bear/teddy/094_a706ff67.jpg'),\n",
              " Path('/content/bear/teddy/095_f35f06cd.jpg'),\n",
              " Path('/content/bear/teddy/096_510ffb7f.jpg'),\n",
              " Path('/content/bear/teddy/097_307f5c01.jpg'),\n",
              " Path('/content/bear/teddy/098_a071e4c5.jpg'),\n",
              " Path('/content/bear/teddy/099_113038e4.jpg'),\n",
              " Path('/content/bear/teddy/100_1fb202c9.jpg')]"
            ]
          },
          "metadata": {
            "tags": []
          },
          "execution_count": 6
        }
      ]
    },
    {
      "cell_type": "code",
      "metadata": {
        "id": "aarcCeWyA9-y"
      },
      "source": [
        "# doc(duckduckgo_search)"
      ],
      "execution_count": 7,
      "outputs": []
    },
    {
      "cell_type": "code",
      "metadata": {
        "id": "lxH2oGBVCKAK",
        "colab": {
          "base_uri": "https://localhost:8080/"
        },
        "outputId": "fa920e12-8ce5-4767-81fb-25860178e8ca"
      },
      "source": [
        "path"
      ],
      "execution_count": 8,
      "outputs": [
        {
          "output_type": "execute_result",
          "data": {
            "text/plain": [
              "Path('/content/bear')"
            ]
          },
          "metadata": {
            "tags": []
          },
          "execution_count": 8
        }
      ]
    },
    {
      "cell_type": "code",
      "metadata": {
        "id": "kJUo_4QFF3k6"
      },
      "source": [
        "lst=get_image_files(path)"
      ],
      "execution_count": 9,
      "outputs": []
    },
    {
      "cell_type": "code",
      "metadata": {
        "id": "o9y4eDS-IGPD"
      },
      "source": [
        "# doc(get_image_files)"
      ],
      "execution_count": 10,
      "outputs": []
    },
    {
      "cell_type": "code",
      "metadata": {
        "id": "cbGfegHxF5RJ",
        "colab": {
          "base_uri": "https://localhost:8080/"
        },
        "outputId": "5b84eae9-a371-45f3-959d-75dfdcb3538c"
      },
      "source": [
        "lst"
      ],
      "execution_count": 11,
      "outputs": [
        {
          "output_type": "execute_result",
          "data": {
            "text/plain": [
              "(#300) [Path('/content/bear/teddy/078_8d50a169.jpg'),Path('/content/bear/teddy/017_c27a2115.jpg'),Path('/content/bear/teddy/024_875cdaa5.jpg'),Path('/content/bear/teddy/081_25d09d75.jpg'),Path('/content/bear/teddy/056_a41e7082.jpg'),Path('/content/bear/teddy/088_b0d80dc1.jpg'),Path('/content/bear/teddy/008_5b84777a.jpg'),Path('/content/bear/teddy/022_4611d6c3.jpg'),Path('/content/bear/teddy/062_47ef6cc8.jpg'),Path('/content/bear/teddy/018_2d39346a.jpg')...]"
            ]
          },
          "metadata": {
            "tags": []
          },
          "execution_count": 11
        }
      ]
    },
    {
      "cell_type": "code",
      "metadata": {
        "id": "Xe_iOgG2GBnI",
        "colab": {
          "base_uri": "https://localhost:8080/"
        },
        "outputId": "a94f7f11-52db-400c-caf7-4077dbb5b65c"
      },
      "source": [
        "len(lst)"
      ],
      "execution_count": 12,
      "outputs": [
        {
          "output_type": "execute_result",
          "data": {
            "text/plain": [
              "300"
            ]
          },
          "metadata": {
            "tags": []
          },
          "execution_count": 12
        }
      ]
    },
    {
      "cell_type": "code",
      "metadata": {
        "id": "N5l6rrMjImFa",
        "colab": {
          "base_uri": "https://localhost:8080/",
          "height": 591,
          "referenced_widgets": [
            "8a01873343b9496b8e3080bc613f35dd",
            "7162373c502648cdb5fbce80293f20ce",
            "375ea12f35214953add0bd4ab91e6b7e",
            "6bd2c19578db4333945ee05c23ec9059",
            "546a9794a66447528fc9052b8d6960c6",
            "295adac6e0e7406e8a3df651d44d9a58",
            "f630970236144d64bad01c0d366d018c",
            "f5db9cbda3964eca82d16d2e0c17c81c",
            "b8de48ab0ac24027b623cb4096f760f4",
            "89e61c5458f049d0b2dea6e36583e055",
            "0156ca535e8e46e28ae1d476363008aa",
            "08c9f7de3c014368bd8a9365bb70a710",
            "afd18b6b1045405fb6bd4cbd2e33fe86",
            "363022d870d346fe8ee76c3301181e51",
            "07d7627e0bd94329956d8d1fce35e064",
            "7de01dd3e1ee48e7872e36d2f66afa86",
            "42ca9cc367db41998c9aef6932d3be65",
            "1ac8cc49730f43639a813721a3556e46",
            "416d53d25e2e446db179224ccaa9e02e",
            "bd01969870c84b8fbfe5f27cbb9a2c8c",
            "643bc52e29b9413985b6f28c33928feb",
            "d3cfc237ae294af78b33986c785aada5",
            "58bc51ed95dd4e60adaa2e9db986db0f",
            "7fb56fe228cb4980bb8b0374c232f30f",
            "ef035f200604410b8c42fc494b427a69",
            "324153033acb4999922297db96447197",
            "7fa1f2d322f141129a0bdf6b56d4908e",
            "8949f6deba9943019e9b4f9cb2b1bfdc",
            "0cbbd93df8bc47f7ad130b8f01bc3a68",
            "888d95cb6e834f0592dbbc40a3fc3c14",
            "35df1914aceb4584a35679f16dea8ffe",
            "e5522c8191a84edc9584e9133cae9c0e",
            "454243ddacd94714aefb8997b0320461",
            "bbeae7ad571f4d3db524b1fee8a606b6",
            "9c69086aac1849659c8c997f5cf29e55",
            "58acec0d7b154963bcd0f1b64ec6ca21",
            "27aededb535c4c7ca22a7d4002c77d9c",
            "0b41a46bb8ec4a4097364a3bef85a588",
            "fea26bff5e9340548c3603a982d13e6c",
            "c97d695fb3ea458281033373601249aa",
            "ed7a893cc28440789b19284a73079913",
            "a168b061df2e4fad9df4858c4943e946",
            "5c83485b5ecd47b3bd54313cd34938c6",
            "1436f27f4f7543ecbb36e2508b3b54ea",
            "7c9b7cef8cd940728849d5c57461ab22",
            "27ad6197277a4aba9c99529819919171",
            "ecfaee2918094c9a9ce42afa9dc3154a",
            "d78bf0c743014a3589398772103ae7b8",
            "1e3fd9b610b34c3598472754e2d02e0d",
            "d6ab420c8ba04bf6893cd5e176eebe3b",
            "479a1d9bfe1244618d4eb85d06f9f66b",
            "e419a342a28c4c39a59d708eefac4e80",
            "1545f22fbbf94734919929f18f8dd658",
            "5111c21c62554c329e9b9ee99f88b7a8",
            "900fcdbb41d74a0ab2e9e5268a513e5d",
            "941c3ddeb1d24087a9953149306355bc",
            "f388797a5fb64b7298b847219204a3af",
            "5ac105dd23e941aeb81f458625a5fd41",
            "a545ea584c6f4f14b5e89378378da522",
            "38fae49595df4c558edca234364c2618",
            "5e2e2427805c41e894e4a82578a68228",
            "f10baf0cd2c54735a66881cf5e5382e2",
            "9d2cb7ad175b43a7af69ee43eafa2e52",
            "a2f666b04f5e48528a81a32527b68588",
            "d15b1d3908604f51a4f1765d382618eb",
            "5fa89a2b987e4f6f91b8d6c3ca4a4c75",
            "c96e45a85d554928a46a4568a1d929e7",
            "d2db648ce8d94cdb88d72b32633a79b2",
            "a95ebdfb1aab4147b9346e5d19333bf0",
            "d77a3e5225af4a06bfdd3c0374754611",
            "cd2b5338a675464d82142ce421d57b7a",
            "2af27fb062d547b9b6478242ef10f6c4",
            "bc2fef2f6a4a4766bdf41989494410d6",
            "769318170e4c473c8001ff93d0a68625",
            "759edc371418462eae5f63c8ddaf228f",
            "79713665bc144fe7beb223e98eca7e02",
            "e1811b7d762f487b85dfd19e8da5121b",
            "616416cae65e48deb3ba06822238fdb0",
            "ca4b58cc7f8b4ae99727d84c55b1f16f",
            "417d9dff5c2b453ca35f21dc1d165488",
            "6e46fc840032426e8c77d4f3858db752",
            "e9d0989c12fa479c86a5f6e256824b36",
            "d9295e1cf5f2482ea895bb6999dc94ad",
            "036c92ea16f64456b99b0df25c80a2b7"
          ]
        },
        "outputId": "aa7b3540-f481-4833-cd54-b539d55e2b22"
      },
      "source": [
        "display_image_cleaner(path)"
      ],
      "execution_count": 13,
      "outputs": [
        {
          "output_type": "display_data",
          "data": {
            "application/vnd.jupyter.widget-view+json": {
              "model_id": "8a01873343b9496b8e3080bc613f35dd",
              "version_minor": 0,
              "version_major": 2
            },
            "text/plain": [
              "HBox(children=(Button(description='|<<', layout=Layout(width='60px'), style=ButtonStyle()), Button(description…"
            ]
          },
          "metadata": {
            "tags": []
          }
        },
        {
          "output_type": "display_data",
          "data": {
            "application/vnd.jupyter.widget-view+json": {
              "model_id": "7fb56fe228cb4980bb8b0374c232f30f",
              "version_minor": 0,
              "version_major": 2
            },
            "text/plain": [
              "HTML(value='<h2>No images left to display in this folder.</h2>', layout=Layout(visibility='hidden'))"
            ]
          },
          "metadata": {
            "tags": []
          }
        },
        {
          "output_type": "display_data",
          "data": {
            "application/vnd.jupyter.widget-view+json": {
              "model_id": "7fa1f2d322f141129a0bdf6b56d4908e",
              "version_minor": 0,
              "version_major": 2
            },
            "text/plain": [
              "GridBox(children=(VBox(children=(Image(value=b'', layout=\"Layout(width='150px')\"), Button(description='Delete'…"
            ]
          },
          "metadata": {
            "tags": []
          }
        }
      ]
    },
    {
      "cell_type": "code",
      "metadata": {
        "id": "pLfB_BFfKSDG"
      },
      "source": [
        "# pwd"
      ],
      "execution_count": 14,
      "outputs": []
    },
    {
      "cell_type": "code",
      "metadata": {
        "id": "rMIO-R0aKVrd"
      },
      "source": [
        "# ls"
      ],
      "execution_count": 15,
      "outputs": []
    },
    {
      "cell_type": "code",
      "metadata": {
        "id": "OzN44OOxLulE"
      },
      "source": [
        "# cd/content/"
      ],
      "execution_count": 16,
      "outputs": []
    },
    {
      "cell_type": "code",
      "metadata": {
        "id": "vhEdbjroMvvG"
      },
      "source": [
        "# rm -r bear\n",
        "# remove the directory for fresh downloads"
      ],
      "execution_count": 17,
      "outputs": []
    },
    {
      "cell_type": "code",
      "metadata": {
        "id": "aSPIqgva_k42",
        "colab": {
          "base_uri": "https://localhost:8080/"
        },
        "outputId": "dbda067e-20a2-4c38-c8ae-855c4712a778"
      },
      "source": [
        "failed = verify_images(lst)\n",
        "failed"
      ],
      "execution_count": 18,
      "outputs": [
        {
          "output_type": "execute_result",
          "data": {
            "text/plain": [
              "(#0) []"
            ]
          },
          "metadata": {
            "tags": []
          },
          "execution_count": 18
        }
      ]
    },
    {
      "cell_type": "code",
      "metadata": {
        "id": "MeeFmzQE_k43"
      },
      "source": [
        "failed.map(Path.unlink);"
      ],
      "execution_count": 19,
      "outputs": []
    },
    {
      "cell_type": "code",
      "metadata": {
        "id": "_OAHxp0N_k46"
      },
      "source": [
        "bear = DataBlock(\n",
        "    blocks=(ImageBlock, CategoryBlock), \n",
        "    get_items=get_image_files, \n",
        "    splitter=RandomSplitter(valid_pct=0.2, seed=42),\n",
        "    get_y=parent_label,\n",
        "    item_tfms=Resize(128))"
      ],
      "execution_count": 20,
      "outputs": []
    },
    {
      "cell_type": "code",
      "metadata": {
        "id": "C8m3E45d_k47"
      },
      "source": [
        "dls = bear.dataloaders(path)"
      ],
      "execution_count": 21,
      "outputs": []
    },
    {
      "cell_type": "code",
      "metadata": {
        "id": "DRi3RHIE_k48",
        "colab": {
          "base_uri": "https://localhost:8080/",
          "height": 193
        },
        "outputId": "8730ae6e-da58-4b46-bdae-585b732099c8"
      },
      "source": [
        "dls.valid.show_batch(max_n=4, nrows=1)"
      ],
      "execution_count": 22,
      "outputs": [
        {
          "output_type": "display_data",
          "data": {
            "image/png": "[encoded data removed]",
            "text/plain": [
              "<Figure size 864x216 with 4 Axes>"
            ]
          },
          "metadata": {
            "tags": [],
            "needs_background": "light"
          }
        }
      ]
    },
    {
      "cell_type": "code",
      "metadata": {
        "id": "4LJKpKP-_k4-",
        "colab": {
          "base_uri": "https://localhost:8080/",
          "height": 305,
          "referenced_widgets": [
            "a3342960798d4da1a58e81da50ee937c",
            "012a3f76b2dd46adb7040144e26cffdb",
            "851cadaef8664715b593cd521d0be3d3",
            "12484a06ab404105a69aadc74204c598",
            "e5dbf68efc194c0c8409649fdb953c12",
            "df60a5975c014229a87a1b21bba1300b",
            "bf92f44bc9fa41ea815069c2f4a9783e",
            "7dcd026252e8447a928a6f52644ad268"
          ]
        },
        "outputId": "5efb0158-47ba-4e9d-dc87-1d99757b0272"
      },
      "source": [
        "learn = cnn_learner(dls, resnet18, metrics=error_rate)\n",
        "learn.fine_tune(4)"
      ],
      "execution_count": 24,
      "outputs": [
        {
          "output_type": "stream",
          "text": [
            "Downloading: \"https://download.pytorch.org/models/resnet18-5c106cde.pth\" to /root/.cache/torch/hub/checkpoints/resnet18-5c106cde.pth\n"
          ],
          "name": "stderr"
        },
        {
          "output_type": "display_data",
          "data": {
            "application/vnd.jupyter.widget-view+json": {
              "model_id": "a3342960798d4da1a58e81da50ee937c",
              "version_minor": 0,
              "version_major": 2
            },
            "text/plain": [
              "HBox(children=(FloatProgress(value=0.0, max=46827520.0), HTML(value='')))"
            ]
          },
          "metadata": {
            "tags": []
          }
        },
        {
          "output_type": "stream",
          "text": [
            "\n"
          ],
          "name": "stdout"
        },
        {
          "output_type": "display_data",
          "data": {
            "text/html": [
              "<table border=\"1\" class=\"dataframe\">\n",
              "  <thead>\n",
              "    <tr style=\"text-align: left;\">\n",
              "      <th>epoch</th>\n",
              "      <th>train_loss</th>\n",
              "      <th>valid_loss</th>\n",
              "      <th>error_rate</th>\n",
              "      <th>time</th>\n",
              "    </tr>\n",
              "  </thead>\n",
              "  <tbody>\n",
              "    <tr>\n",
              "      <td>0</td>\n",
              "      <td>1.709926</td>\n",
              "      <td>0.176544</td>\n",
              "      <td>0.083333</td>\n",
              "      <td>00:01</td>\n",
              "    </tr>\n",
              "  </tbody>\n",
              "</table>"
            ],
            "text/plain": [
              "<IPython.core.display.HTML object>"
            ]
          },
          "metadata": {
            "tags": []
          }
        },
        {
          "output_type": "display_data",
          "data": {
            "text/html": [
              "<table border=\"1\" class=\"dataframe\">\n",
              "  <thead>\n",
              "    <tr style=\"text-align: left;\">\n",
              "      <th>epoch</th>\n",
              "      <th>train_loss</th>\n",
              "      <th>valid_loss</th>\n",
              "      <th>error_rate</th>\n",
              "      <th>time</th>\n",
              "    </tr>\n",
              "  </thead>\n",
              "  <tbody>\n",
              "    <tr>\n",
              "      <td>0</td>\n",
              "      <td>0.645523</td>\n",
              "      <td>0.088103</td>\n",
              "      <td>0.033333</td>\n",
              "      <td>00:01</td>\n",
              "    </tr>\n",
              "    <tr>\n",
              "      <td>1</td>\n",
              "      <td>0.503397</td>\n",
              "      <td>0.023381</td>\n",
              "      <td>0.000000</td>\n",
              "      <td>00:01</td>\n",
              "    </tr>\n",
              "    <tr>\n",
              "      <td>2</td>\n",
              "      <td>0.365353</td>\n",
              "      <td>0.019022</td>\n",
              "      <td>0.000000</td>\n",
              "      <td>00:01</td>\n",
              "    </tr>\n",
              "    <tr>\n",
              "      <td>3</td>\n",
              "      <td>0.285070</td>\n",
              "      <td>0.027499</td>\n",
              "      <td>0.000000</td>\n",
              "      <td>00:01</td>\n",
              "    </tr>\n",
              "  </tbody>\n",
              "</table>"
            ],
            "text/plain": [
              "<IPython.core.display.HTML object>"
            ]
          },
          "metadata": {
            "tags": []
          }
        }
      ]
    },
    {
      "cell_type": "code",
      "metadata": {
        "id": "Y0Q-RhrH_k4-",
        "colab": {
          "base_uri": "https://localhost:8080/",
          "height": 310
        },
        "outputId": "35324c03-5b66-4dd1-f389-0ae8a17468e7"
      },
      "source": [
        "interp = ClassificationInterpretation.from_learner(learn)\n",
        "interp.plot_confusion_matrix()"
      ],
      "execution_count": 25,
      "outputs": [
        {
          "output_type": "display_data",
          "data": {
            "text/html": [
              ""
            ],
            "text/plain": [
              "<IPython.core.display.HTML object>"
            ]
          },
          "metadata": {
            "tags": []
          }
        },
        {
          "output_type": "display_data",
          "data": {
            "image/png": "[encoded data removed]",
            "text/plain": [
              "<Figure size 432x288 with 1 Axes>"
            ]
          },
          "metadata": {
            "tags": [],
            "needs_background": "light"
          }
        }
      ]
    },
    {
      "cell_type": "code",
      "metadata": {
        "id": "ATBnFQ6G_k4_",
        "colab": {
          "base_uri": "https://localhost:8080/",
          "height": 206
        },
        "outputId": "71413ee3-bf39-417d-a3ab-fa36e0caba4e"
      },
      "source": [
        "interp.plot_top_losses(5, nrows=1)"
      ],
      "execution_count": 26,
      "outputs": [
        {
          "output_type": "display_data",
          "data": {
            "image/png": "[encoded data removed]",
            "text/plain": [
              "<Figure size 1080x216 with 5 Axes>"
            ]
          },
          "metadata": {
            "tags": [],
            "needs_background": "light"
          }
        }
      ]
    },
    {
      "cell_type": "code",
      "metadata": {
        "colab": {
          "base_uri": "https://localhost:8080/",
          "height": 49,
          "referenced_widgets": [
            "9974e3169eed43fea5ea6572a4b2d0c0",
            "4f44c0b2431544f2966915609126f0eb",
            "a1c5967cf53e499c9adae11cb2ef2727"
          ]
        },
        "id": "wt6SzAyFvBu6",
        "outputId": "9bab1a17-0dab-44e2-9f94-745f8d48bf8f"
      },
      "source": [
        "learn.export()\n",
        "path = Path()\n",
        "path.ls(file_exts='.pkl')\n",
        "\n",
        "learn_inf = load_learner(path/'export.pkl')\n",
        "\n",
        "btn_upload = widgets.FileUpload()#Displays a widget which can be used to upload images from your system\n",
        "btn_upload"
      ],
      "execution_count": 34,
      "outputs": [
        {
          "output_type": "display_data",
          "data": {
            "application/vnd.jupyter.widget-view+json": {
              "model_id": "9974e3169eed43fea5ea6572a4b2d0c0",
              "version_minor": 0,
              "version_major": 2
            },
            "text/plain": [
              "FileUpload(value={}, description='Upload')"
            ]
          },
          "metadata": {
            "tags": []
          }
        }
      ]
    },
    {
      "cell_type": "code",
      "metadata": {
        "colab": {
          "base_uri": "https://localhost:8080/",
          "height": 102,
          "referenced_widgets": [
            "4b408ceaa9334222943c64dfbe1d0b93",
            "67b74293e6c343b9b1fbfefc4feadbc8"
          ]
        },
        "id": "M8fFOxMpvH89",
        "outputId": "3c30b9c2-53aa-4513-ecad-7f386aa0b3f7"
      },
      "source": [
        "img = PILImage.create(btn_upload.data[-1])\n",
        "\n",
        "out_pl = widgets.Output()\n",
        "out_pl.clear_output()\n",
        "with out_pl: display(img.to_thumb(128,128))#resizes the uloaded image\n",
        "out_pl"
      ],
      "execution_count": 37,
      "outputs": [
        {
          "output_type": "display_data",
          "data": {
            "application/vnd.jupyter.widget-view+json": {
              "model_id": "4b408ceaa9334222943c64dfbe1d0b93",
              "version_minor": 0,
              "version_major": 2
            },
            "text/plain": [
              "Output()"
            ]
          },
          "metadata": {
            "tags": []
          }
        }
      ]
    },
    {
      "cell_type": "code",
      "metadata": {
        "colab": {
          "base_uri": "https://localhost:8080/",
          "height": 49,
          "referenced_widgets": [
            "c52af5d98be346d5a3d5c0d8526b78d3",
            "cc2cf510fda74ff68ca5e525ca30e0c7",
            "eb37766940434784a5645709639b8ea2"
          ]
        },
        "id": "QVz18DZuvTA2",
        "outputId": "e5daf1cc-52da-4977-b6af-23ce75855627"
      },
      "source": [
        "pred,pred_idx,probs = learn_inf.predict(img)#asks the model to predict the animal in the image!\n",
        "lbl_pred = widgets.Label()\n",
        "lbl_pred.value = f'Prediction: {pred}; Probability: {probs[pred_idx]:.04f}'#displays the output in a readable format\n",
        "lbl_pred"
      ],
      "execution_count": 38,
      "outputs": [
        {
          "output_type": "display_data",
          "data": {
            "text/html": [
              ""
            ],
            "text/plain": [
              "<IPython.core.display.HTML object>"
            ]
          },
          "metadata": {
            "tags": []
          }
        },
        {
          "output_type": "display_data",
          "data": {
            "application/vnd.jupyter.widget-view+json": {
              "model_id": "c52af5d98be346d5a3d5c0d8526b78d3",
              "version_minor": 0,
              "version_major": 2
            },
            "text/plain": [
              "Label(value='Prediction: grizzly; Probability: 0.9027')"
            ]
          },
          "metadata": {
            "tags": []
          }
        }
      ]
    }
  ]
}